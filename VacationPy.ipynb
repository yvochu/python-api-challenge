{
 "cells": [
  {
   "cell_type": "markdown",
   "metadata": {},
   "source": [
    "# VacationPy\n",
    "---\n",
    "\n",
    "## Starter Code to Import Libraries and Load the Weather and Coordinates Data"
   ]
  },
  {
   "cell_type": "code",
   "execution_count": 16,
   "metadata": {},
   "outputs": [],
   "source": [
    "# Dependencies and Setup\n",
    "import hvplot.pandas\n",
    "import pandas as pd\n",
    "import requests\n",
    "\n",
    "# Import API key\n",
    "from api_keys import geoapify_key"
   ]
  },
  {
   "cell_type": "code",
   "execution_count": 17,
   "metadata": {},
   "outputs": [
    {
     "data": {
      "text/html": [
       "<div>\n",
       "<style scoped>\n",
       "    .dataframe tbody tr th:only-of-type {\n",
       "        vertical-align: middle;\n",
       "    }\n",
       "\n",
       "    .dataframe tbody tr th {\n",
       "        vertical-align: top;\n",
       "    }\n",
       "\n",
       "    .dataframe thead th {\n",
       "        text-align: right;\n",
       "    }\n",
       "</style>\n",
       "<table border=\"1\" class=\"dataframe\">\n",
       "  <thead>\n",
       "    <tr style=\"text-align: right;\">\n",
       "      <th></th>\n",
       "      <th>City_ID</th>\n",
       "      <th>City</th>\n",
       "      <th>Lat</th>\n",
       "      <th>Lng</th>\n",
       "      <th>Max Temp</th>\n",
       "      <th>Humidity</th>\n",
       "      <th>Cloudiness</th>\n",
       "      <th>Wind Speed</th>\n",
       "      <th>Country</th>\n",
       "      <th>Date</th>\n",
       "    </tr>\n",
       "  </thead>\n",
       "  <tbody>\n",
       "    <tr>\n",
       "      <th>0</th>\n",
       "      <td>0</td>\n",
       "      <td>yangambi</td>\n",
       "      <td>-25.3</td>\n",
       "      <td>45.4833</td>\n",
       "      <td>38.0</td>\n",
       "      <td>28</td>\n",
       "      <td>1</td>\n",
       "      <td>1.44</td>\n",
       "      <td>MG</td>\n",
       "      <td>1731921055</td>\n",
       "    </tr>\n",
       "    <tr>\n",
       "      <th>1</th>\n",
       "      <td>1</td>\n",
       "      <td>revda</td>\n",
       "      <td>-25.3</td>\n",
       "      <td>45.4833</td>\n",
       "      <td>38.0</td>\n",
       "      <td>28</td>\n",
       "      <td>1</td>\n",
       "      <td>1.44</td>\n",
       "      <td>MG</td>\n",
       "      <td>1731921055</td>\n",
       "    </tr>\n",
       "    <tr>\n",
       "      <th>2</th>\n",
       "      <td>2</td>\n",
       "      <td>posto fiscal rolim de moura</td>\n",
       "      <td>-25.3</td>\n",
       "      <td>45.4833</td>\n",
       "      <td>38.0</td>\n",
       "      <td>28</td>\n",
       "      <td>1</td>\n",
       "      <td>1.44</td>\n",
       "      <td>MG</td>\n",
       "      <td>1731921055</td>\n",
       "    </tr>\n",
       "    <tr>\n",
       "      <th>3</th>\n",
       "      <td>3</td>\n",
       "      <td>waitangi</td>\n",
       "      <td>-25.3</td>\n",
       "      <td>45.4833</td>\n",
       "      <td>38.0</td>\n",
       "      <td>28</td>\n",
       "      <td>1</td>\n",
       "      <td>1.44</td>\n",
       "      <td>MG</td>\n",
       "      <td>1731921055</td>\n",
       "    </tr>\n",
       "    <tr>\n",
       "      <th>4</th>\n",
       "      <td>4</td>\n",
       "      <td>blackmans bay</td>\n",
       "      <td>-25.3</td>\n",
       "      <td>45.4833</td>\n",
       "      <td>38.0</td>\n",
       "      <td>28</td>\n",
       "      <td>1</td>\n",
       "      <td>1.44</td>\n",
       "      <td>MG</td>\n",
       "      <td>1731921055</td>\n",
       "    </tr>\n",
       "  </tbody>\n",
       "</table>\n",
       "</div>"
      ],
      "text/plain": [
       "   City_ID                         City   Lat      Lng  Max Temp  Humidity  \\\n",
       "0        0                     yangambi -25.3  45.4833      38.0        28   \n",
       "1        1                        revda -25.3  45.4833      38.0        28   \n",
       "2        2  posto fiscal rolim de moura -25.3  45.4833      38.0        28   \n",
       "3        3                     waitangi -25.3  45.4833      38.0        28   \n",
       "4        4                blackmans bay -25.3  45.4833      38.0        28   \n",
       "\n",
       "   Cloudiness  Wind Speed Country        Date  \n",
       "0           1        1.44      MG  1731921055  \n",
       "1           1        1.44      MG  1731921055  \n",
       "2           1        1.44      MG  1731921055  \n",
       "3           1        1.44      MG  1731921055  \n",
       "4           1        1.44      MG  1731921055  "
      ]
     },
     "execution_count": 17,
     "metadata": {},
     "output_type": "execute_result"
    }
   ],
   "source": [
    "# Load the CSV file created in Part 1 into a Pandas DataFrame\n",
    "city_data_df = pd.read_csv(\"output_data/cities.csv\")\n",
    "\n",
    "# Display sample data\n",
    "city_data_df.head()"
   ]
  },
  {
   "cell_type": "markdown",
   "metadata": {},
   "source": [
    "---\n",
    "\n",
    "### Step 1: Create a map that displays a point for every city in the `city_data_df` DataFrame. The size of the point should be the humidity in each city."
   ]
  },
  {
   "cell_type": "code",
   "execution_count": 18,
   "metadata": {},
   "outputs": [
    {
     "data": {},
     "metadata": {},
     "output_type": "display_data"
    },
    {
     "data": {
      "application/vnd.holoviews_exec.v0+json": "",
      "text/html": [
       "<div id='p1335'>\n",
       "  <div id=\"d7698f6f-0804-407f-86fd-2d25d9653ebe\" data-root-id=\"p1335\" style=\"display: contents;\"></div>\n",
       "</div>\n",
       "<script type=\"application/javascript\">(function(root) {\n",
       "  var docs_json = {\"1ed6dd91-430d-4132-9c45-ba7fe7cb902a\":{\"version\":\"3.4.1\",\"title\":\"Bokeh Application\",\"roots\":[{\"type\":\"object\",\"name\":\"Row\",\"id\":\"p1335\",\"attributes\":{\"name\":\"Row02121\",\"tags\":[\"embedded\"],\"stylesheets\":[\"\\n:host(.pn-loading):before, .pn-loading:before {\\n  background-color: #c3c3c3;\\n  mask-size: auto calc(min(50%, 400px));\\n  -webkit-mask-size: auto calc(min(50%, 400px));\\n}\",{\"type\":\"object\",\"name\":\"ImportedStyleSheet\",\"id\":\"p1338\",\"attributes\":{\"url\":\"https://cdn.holoviz.org/panel/1.4.4/dist/css/loading.css\"}},{\"type\":\"object\",\"name\":\"ImportedStyleSheet\",\"id\":\"p1437\",\"attributes\":{\"url\":\"https://cdn.holoviz.org/panel/1.4.4/dist/css/listpanel.css\"}},{\"type\":\"object\",\"name\":\"ImportedStyleSheet\",\"id\":\"p1336\",\"attributes\":{\"url\":\"https://cdn.holoviz.org/panel/1.4.4/dist/bundled/theme/default.css\"}},{\"type\":\"object\",\"name\":\"ImportedStyleSheet\",\"id\":\"p1337\",\"attributes\":{\"url\":\"https://cdn.holoviz.org/panel/1.4.4/dist/bundled/theme/native.css\"}}],\"margin\":0,\"sizing_mode\":\"stretch_width\",\"align\":\"start\",\"children\":[{\"type\":\"object\",\"name\":\"Spacer\",\"id\":\"p1339\",\"attributes\":{\"name\":\"HSpacer02127\",\"stylesheets\":[\"\\n:host(.pn-loading):before, .pn-loading:before {\\n  background-color: #c3c3c3;\\n  mask-size: auto calc(min(50%, 400px));\\n  -webkit-mask-size: auto calc(min(50%, 400px));\\n}\",{\"id\":\"p1338\"},{\"id\":\"p1336\"},{\"id\":\"p1337\"}],\"margin\":0,\"sizing_mode\":\"stretch_width\",\"align\":\"start\"}},{\"type\":\"object\",\"name\":\"Figure\",\"id\":\"p1378\",\"attributes\":{\"width\":null,\"height\":null,\"margin\":[5,10],\"sizing_mode\":\"fixed\",\"align\":\"start\",\"x_range\":{\"type\":\"object\",\"name\":\"Range1d\",\"id\":\"p1349\",\"attributes\":{\"tags\":[[[\"Longitude\",null]],[]],\"start\":-11744371.738415552,\"end\":21045816.50698559,\"reset_start\":-11744371.738415552,\"reset_end\":21045816.50698559,\"min_interval\":5}},\"y_range\":{\"type\":\"object\",\"name\":\"Range1d\",\"id\":\"p1350\",\"attributes\":{\"tags\":[[[\"Latitude\",null]],{\"type\":\"map\",\"entries\":[[\"invert_yaxis\",false],[\"autorange\",false]]}],\"start\":-8590505.00806851,\"end\":16002136.175982349,\"reset_start\":-8590505.00806851,\"reset_end\":16002136.175982349,\"min_interval\":5}},\"x_scale\":{\"type\":\"object\",\"name\":\"LinearScale\",\"id\":\"p1388\"},\"y_scale\":{\"type\":\"object\",\"name\":\"LinearScale\",\"id\":\"p1389\"},\"title\":{\"type\":\"object\",\"name\":\"Title\",\"id\":\"p1381\",\"attributes\":{\"text_color\":\"black\",\"text_font_size\":\"12pt\"}},\"renderers\":[{\"type\":\"object\",\"name\":\"TileRenderer\",\"id\":\"p1411\",\"attributes\":{\"level\":\"underlay\",\"tile_source\":{\"type\":\"object\",\"name\":\"WMTSTileSource\",\"id\":\"p1407\",\"attributes\":{\"url\":\"https://c.tile.openstreetmap.org/{Z}/{X}/{Y}.png\",\"attribution\":\"&copy; <a href=\\\"https://www.openstreetmap.org/copyright\\\">OpenStreetMap</a> contributors\"}}}},{\"type\":\"object\",\"name\":\"GlyphRenderer\",\"id\":\"p1427\",\"attributes\":{\"name\":\"color\",\"data_source\":{\"type\":\"object\",\"name\":\"ColumnDataSource\",\"id\":\"p1416\",\"attributes\":{\"selected\":{\"type\":\"object\",\"name\":\"Selection\",\"id\":\"p1417\",\"attributes\":{\"indices\":[],\"line_indices\":[]}},\"selection_policy\":{\"type\":\"object\",\"name\":\"UnionRenderers\",\"id\":\"p1418\"},\"data\":{\"type\":\"map\",\"entries\":[[\"Lng\",{\"type\":\"ndarray\",\"array\":{\"type\":\"bytes\",\"data\":\"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\"},\"shape\":[598],\"dtype\":\"float64\",\"order\":\"little\"}],[\"Lat\",{\"type\":\"ndarray\",\"array\":{\"type\":\"bytes\",\"data\":\"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\"},\"shape\":[598],\"dtype\":\"float64\",\"order\":\"little\"}],[\"City\",[\"yangambi\",\"revda\",\"posto fiscal rolim de moura\",\"waitangi\",\"blackmans bay\",\"hithadhoo\",\"walvis bay\",\"laayoune\",\"uturoa\",\"albany\",\"adamstown\",\"tiksi\",\"edinburgh of the seven seas\",\"talnakh\",\"coyhaique\",\"labrador city\",\"taiohae\",\"college\",\"hermanus\",\"am djarass\",\"jamestown\",\"ust-nera\",\"atafu village\",\"quang ngai\",\"vadso\",\"san julian\",\"cidreira\",\"borogontsy\",\"juneau\",\"port-aux-francais\",\"homer\",\"acapulco de juarez\",\"georgetown\",\"remire-montjoly\",\"rabo de peixe\",\"olonkinbyen\",\"invercargill\",\"grytviken\",\"san juan\",\"east london\",\"anar darah\",\"zaozersk\",\"al bawiti\",\"al 'alamayn\",\"lenger\",\"aasiaat\",\"whitehorse\",\"port alberni\",\"anadyr\",\"puranpur\",\"rajmahal\",\"yellowknife\",\"malvan\",\"punta arenas\",\"chonchi\",\"kodiak\",\"tura\",\"bethel\",\"vila velha\",\"vilyuchinsk\",\"whyalla stuart\",\"qaqortoq\",\"flying fish cove\",\"wailua homesteads\",\"bilibino\",\"alofi\",\"hamilton\",\"nova sintra\",\"carnarvon\",\"hasaki\",\"antonio enes\",\"bonthe\",\"fort stockton\",\"udachny\",\"orichi\",\"ihosy\",\"bentota\",\"okahandja\",\"pikalevo\",\"klyuchi\",\"happy valley-goose bay\",\"cadale\",\"petropavlovsk-kamchatsky\",\"stanley\",\"aleksandrovskoye\",\"santa rosa\",\"kursenai\",\"cockburn town\",\"san luis\",\"es castell\",\"thompson\",\"pangody\",\"sola\",\"kupino\",\"fuvahmulah\",\"kavaratti\",\"lebu\",\"ciudad victoria\",\"san patricio\",\"tsetserleg\",\"susuman\",\"cabedelo\",\"zhob\",\"hawaiian paradise park\",\"orapa\",\"saint-pierre\",\"baoding\",\"juegang\",\"port mathurin\",\"taoudenni\",\"chupaca\",\"puerto ayora\",\"sant carles de la rapita\",\"ribeira grande\",\"lata\",\"yeosu\",\"la passe\",\"hikari\",\"aykhal\",\"iqaluit\",\"midvagur\",\"axim\",\"brookings\",\"pathein\",\"port elizabeth\",\"weno\",\"bredasdorp\",\"mantua\",\"tachilek\",\"margaret river\",\"'ohonua\",\"nogliki\",\"camarinas\",\"kenora\",\"manggar\",\"papatowai\",\"hilo\",\"puerto natales\",\"ushuaia\",\"polyarnyy\",\"domat\",\"kailua-kona\",\"labasa\",\"dwarka\",\"saldanha\",\"gaiman\",\"redencao\",\"mugia\",\"tolanaro\",\"krasnozerskoye\",\"utrik\",\"arthur's town\",\"badger\",\"lompoc\",\"kilkenny\",\"lindlar\",\"tomatlan\",\"afif\",\"ghat\",\"luderitz\",\"alaghsas\",\"dickinson\",\"kiunga\",\"ivanec\",\"constantia\",\"ahau\",\"connell\",\"isafjordur\",\"ilulissat\",\"korsakov\",\"mount gambier\",\"mach\",\"west island\",\"lubny\",\"sant lluis\",\"narasannapeta\",\"luganville\",\"mugumu\",\"uaua\",\"vingt cinq\",\"zyryanovsk\",\"novodvinsk\",\"longyearbyen\",\"ankazoabo\",\"sile\",\"lihue\",\"gulf breeze\",\"fort st. john\",\"bodaybo\",\"filadelfia\",\"igarka\",\"buon ma thuot\",\"kanniyakumari\",\"novyy urgal\",\"rustenburg\",\"yatou\",\"beya\",\"newman\",\"brisas de zicatela\",\"copala\",\"lebanon\",\"sawang daen din\",\"conception bay south\",\"biritiba mirim\",\"faya-largeau\",\"caleta de carquin\",\"forster\",\"hakkari\",\"nieuw amsterdam\",\"yaren\",\"oualidia\",\"tralee\",\"kittila\",\"tazovsky\",\"al marj\",\"ust'-ilimsk\",\"santa terezinha\",\"naze\",\"micheweni\",\"lautoka\",\"dumai\",\"tsiombe\",\"holualoa\",\"natal\",\"sitka\",\"punta del este\",\"crucecita\",\"alotau\",\"dubbo\",\"fuglafjordur\",\"kolonia\",\"iskateley\",\"benguela\",\"hayma'\",\"sodankyla\",\"bazarnyye mataki\",\"saipan\",\"okha\",\"freetown\",\"callao\",\"usogorsk\",\"prince rupert\",\"kirensk\",\"alice springs\",\"chandbali\",\"touros\",\"sandnessjoen\",\"san antonio de pale\",\"stantsiya novyy afon\",\"afaahiti\",\"saint-philippe\",\"kristiansund\",\"niafunke\",\"bairnsdale\",\"st. john's\",\"taichung\",\"machico\",\"bodo\",\"kstovo\",\"panaba\",\"grenaa\",\"namibe\",\"galliano\",\"mora\",\"durres\",\"palmer\",\"fale old settlement\",\"cabo san lucas\",\"sonsorol village\",\"dudinka\",\"enewetak\",\"tranovaho\",\"malpica\",\"tyrnyauz\",\"salinopolis\",\"al kharijah\",\"el vigia\",\"fada\",\"oroqen zizhiqi\",\"santana do livramento\",\"margate\",\"smithers\",\"white oak\",\"lapaha\",\"mount darwin\",\"pokhara\",\"tyul'kubas\",\"inashiki\",\"vera cruz\",\"road town\",\"saratamata\",\"khandyga\",\"howard springs\",\"thinadhoo\",\"eregli\",\"vila do maio\",\"lib\",\"duncan town\",\"reggane\",\"hadibu\",\"acarau\",\"kourou\",\"sisimiut\",\"amga\",\"laminusa\",\"idabel\",\"beaufort west\",\"vanimo\",\"lake albert\",\"guerrero negro\",\"dunedin\",\"yuyao\",\"biratnagar\",\"stephenville\",\"mil'kovo\",\"conceicao da barra\",\"broome\",\"nkhata bay\",\"bemetara\",\"keflavik\",\"general conesa\",\"yomra\",\"pacocha\",\"laguna\",\"greymouth\",\"rio grande\",\"dese\",\"horsham\",\"paita\",\"brokopondo\",\"dawei\",\"waingapu\",\"conduaga\",\"idri\",\"bela crkva\",\"luanda\",\"maiwut\",\"island harbour\",\"new norfolk\",\"muzayri'\",\"nantucket\",\"greenville\",\"cape coast\",\"arica\",\"tucuma\",\"manokwari\",\"port saint john's\",\"guixi\",\"tirat karmel\",\"avarua\",\"dawesville\",\"tereze\",\"ancud\",\"sao vicente\",\"sinabang\",\"alenquer\",\"bulayevo\",\"kenai\",\"balykshi\",\"kruisfontein\",\"puerto armuelles\",\"hotan\",\"jijiga\",\"le pouliguen\",\"kota bharu\",\"nouadhibou\",\"urangan\",\"hobyo\",\"abhar\",\"aripuana\",\"tera\",\"sabang\",\"kingston\",\"whangarei\",\"carinhanha\",\"celestun\",\"rabaul\",\"pudasjarvi\",\"carutapera\",\"porto novo\",\"northam\",\"tobi village\",\"paradip garh\",\"darwin\",\"musay'id\",\"sikeston\",\"saint-francois\",\"dawson creek\",\"campbellton\",\"opuwo\",\"coelho neto\",\"staraya mayna\",\"buenaventura\",\"agat village\",\"ijuw\",\"shalkar\",\"nemuro\",\"carmo do paranaiba\",\"villa berthet\",\"preobrazheniye\",\"mount pearl\",\"regen\",\"loch garman\",\"bardai\",\"nishon tumani\",\"fort bragg\",\"kapuskasing\",\"winnipeg\",\"salalah\",\"bubaque\",\"altamira\",\"obock\",\"badiyah\",\"puerto san carlos\",\"jayapura\",\"tadine\",\"umatac village\",\"ust-tsilma\",\"coquimbo\",\"jianshui\",\"ca mau\",\"frederico westphalen\",\"sao paulo de olivenca\",\"boguchany\",\"pandan\",\"queenstown\",\"katsina\",\"mount isa\",\"bikenibeu village\",\"ocos\",\"qalat\",\"hastings\",\"wajir\",\"sheksna\",\"ketchikan\",\"reitz\",\"antsiranana\",\"nar'yan-mar\",\"gobabis\",\"ikalamavony\",\"cumaribo\",\"arvayheer\",\"puerto lempira\",\"port lincoln\",\"strezhevoy\",\"north platte\",\"karamay\",\"amos\",\"oriximina\",\"hachinohe\",\"kokkola\",\"aras-asan\",\"sorong\",\"vilyuysk\",\"santa ana\",\"aragarcas\",\"inhambane\",\"kone\",\"cable beach\",\"at taj\",\"burnie\",\"myawadi\",\"witu\",\"tamanrasset\",\"chandler\",\"ornskoldsvik\",\"boonville\",\"loango\",\"el calafate\",\"ust'-kulom\",\"champerico\",\"yuzhno-kurilsk\",\"rongelap\",\"setun'\",\"kismayo\",\"shache\",\"mhamid\",\"lospalos\",\"toga village\",\"eirunepe\",\"qui nhon\",\"dazhong\",\"babolsar\",\"nuuk\",\"maitum\",\"hami\",\"priargunsk\",\"suez\",\"saint-joseph\",\"broken hill\",\"ola\",\"tyup\",\"winslow\",\"puerto ayacucho\",\"klimavichy\",\"haiku-pauwela\",\"selfoss\",\"brigantine\",\"sheopur\",\"coahuayana de hidalgo\",\"antofagasta\",\"balqash\",\"kayes\",\"san-pedro\",\"north shore\",\"anloga\",\"codrington\",\"miandrivazo\",\"cole harbour\",\"mitu\",\"tocopilla\",\"dryden\",\"basco\",\"ekibastuz\",\"okhotsk\",\"safranbolu\",\"diebougou\",\"parlakimidi\",\"medenine\",\"mahina\",\"raja\",\"belyy yar\",\"arraial do cabo\",\"maun\",\"orillia\",\"gereida\",\"serang\",\"medina\",\"berkhamsted\",\"mont-dore\",\"vallenar\",\"guanhaes\",\"i-n-salah\",\"devinuwara\",\"kargopol'\",\"tiszaujvaros\",\"colonia menno\",\"howrah\",\"port alfred\",\"leninsk-kuznetsky\",\"morehead city\",\"lively\",\"lodja\",\"tual\",\"al ghayzah\",\"colonia\",\"laibin\",\"mccook\",\"trincomalee\",\"sao joao da barra\",\"vorgashor\",\"funadhoo\",\"mutoko\",\"'ain el hadjar\",\"sona\",\"balcarce\",\"betio village\",\"vanino\",\"grand-lahou\",\"portland\",\"bathurst\",\"altai\",\"chake chake\",\"ariquemes\",\"virginia\",\"rebrikha\",\"bhamo\",\"banda aceh\",\"aykol\",\"san felice circeo\",\"fortuna\",\"ghadamis\",\"salamanca\",\"burutu\",\"alcains\",\"jindabyne\",\"klaksvik\",\"graaff-reinet\",\"kiruna\",\"la esperanza\",\"abepura\",\"inarajan village\",\"segou\",\"kimbe\",\"nizhnesortymskiy\",\"tregunc\",\"borisoglebsk\",\"panorama\",\"tupiza\",\"rundu\",\"lumberton\",\"paranhos\",\"tukrah\",\"orsa\",\"santarem\",\"nola\",\"lodwar\",\"obigarm\"]],[\"Humidity\",{\"type\":\"ndarray\",\"array\":{\"type\":\"bytes\",\"data\":\"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\"},\"shape\":[598],\"dtype\":\"int32\",\"order\":\"little\"}],[\"color\",[\"yangambi\",\"revda\",\"posto fiscal rolim de moura\",\"waitangi\",\"blackmans bay\",\"hithadhoo\",\"walvis bay\",\"laayoune\",\"uturoa\",\"albany\",\"adamstown\",\"tiksi\",\"edinburgh of the seven seas\",\"talnakh\",\"coyhaique\",\"labrador city\",\"taiohae\",\"college\",\"hermanus\",\"am djarass\",\"jamestown\",\"ust-nera\",\"atafu village\",\"quang ngai\",\"vadso\",\"san julian\",\"cidreira\",\"borogontsy\",\"juneau\",\"port-aux-francais\",\"homer\",\"acapulco de juarez\",\"georgetown\",\"remire-montjoly\",\"rabo de peixe\",\"olonkinbyen\",\"invercargill\",\"grytviken\",\"san juan\",\"east london\",\"anar darah\",\"zaozersk\",\"al bawiti\",\"al 'alamayn\",\"lenger\",\"aasiaat\",\"whitehorse\",\"port alberni\",\"anadyr\",\"puranpur\",\"rajmahal\",\"yellowknife\",\"malvan\",\"punta arenas\",\"chonchi\",\"kodiak\",\"tura\",\"bethel\",\"vila velha\",\"vilyuchinsk\",\"whyalla stuart\",\"qaqortoq\",\"flying fish cove\",\"wailua homesteads\",\"bilibino\",\"alofi\",\"hamilton\",\"nova sintra\",\"carnarvon\",\"hasaki\",\"antonio enes\",\"bonthe\",\"fort stockton\",\"udachny\",\"orichi\",\"ihosy\",\"bentota\",\"okahandja\",\"pikalevo\",\"klyuchi\",\"happy valley-goose bay\",\"cadale\",\"petropavlovsk-kamchatsky\",\"stanley\",\"aleksandrovskoye\",\"santa rosa\",\"kursenai\",\"cockburn town\",\"san luis\",\"es castell\",\"thompson\",\"pangody\",\"sola\",\"kupino\",\"fuvahmulah\",\"kavaratti\",\"lebu\",\"ciudad victoria\",\"san patricio\",\"tsetserleg\",\"susuman\",\"cabedelo\",\"zhob\",\"hawaiian paradise park\",\"orapa\",\"saint-pierre\",\"baoding\",\"juegang\",\"port mathurin\",\"taoudenni\",\"chupaca\",\"puerto ayora\",\"sant carles de la rapita\",\"ribeira grande\",\"lata\",\"yeosu\",\"la passe\",\"hikari\",\"aykhal\",\"iqaluit\",\"midvagur\",\"axim\",\"brookings\",\"pathein\",\"port elizabeth\",\"weno\",\"bredasdorp\",\"mantua\",\"tachilek\",\"margaret river\",\"'ohonua\",\"nogliki\",\"camarinas\",\"kenora\",\"manggar\",\"papatowai\",\"hilo\",\"puerto natales\",\"ushuaia\",\"polyarnyy\",\"domat\",\"kailua-kona\",\"labasa\",\"dwarka\",\"saldanha\",\"gaiman\",\"redencao\",\"mugia\",\"tolanaro\",\"krasnozerskoye\",\"utrik\",\"arthur's town\",\"badger\",\"lompoc\",\"kilkenny\",\"lindlar\",\"tomatlan\",\"afif\",\"ghat\",\"luderitz\",\"alaghsas\",\"dickinson\",\"kiunga\",\"ivanec\",\"constantia\",\"ahau\",\"connell\",\"isafjordur\",\"ilulissat\",\"korsakov\",\"mount gambier\",\"mach\",\"west island\",\"lubny\",\"sant lluis\",\"narasannapeta\",\"luganville\",\"mugumu\",\"uaua\",\"vingt cinq\",\"zyryanovsk\",\"novodvinsk\",\"longyearbyen\",\"ankazoabo\",\"sile\",\"lihue\",\"gulf breeze\",\"fort st. john\",\"bodaybo\",\"filadelfia\",\"igarka\",\"buon ma thuot\",\"kanniyakumari\",\"novyy urgal\",\"rustenburg\",\"yatou\",\"beya\",\"newman\",\"brisas de zicatela\",\"copala\",\"lebanon\",\"sawang daen din\",\"conception bay south\",\"biritiba mirim\",\"faya-largeau\",\"caleta de carquin\",\"forster\",\"hakkari\",\"nieuw amsterdam\",\"yaren\",\"oualidia\",\"tralee\",\"kittila\",\"tazovsky\",\"al marj\",\"ust'-ilimsk\",\"santa terezinha\",\"naze\",\"micheweni\",\"lautoka\",\"dumai\",\"tsiombe\",\"holualoa\",\"natal\",\"sitka\",\"punta del este\",\"crucecita\",\"alotau\",\"dubbo\",\"fuglafjordur\",\"kolonia\",\"iskateley\",\"benguela\",\"hayma'\",\"sodankyla\",\"bazarnyye mataki\",\"saipan\",\"okha\",\"freetown\",\"callao\",\"usogorsk\",\"prince rupert\",\"kirensk\",\"alice springs\",\"chandbali\",\"touros\",\"sandnessjoen\",\"san antonio de pale\",\"stantsiya novyy afon\",\"afaahiti\",\"saint-philippe\",\"kristiansund\",\"niafunke\",\"bairnsdale\",\"st. john's\",\"taichung\",\"machico\",\"bodo\",\"kstovo\",\"panaba\",\"grenaa\",\"namibe\",\"galliano\",\"mora\",\"durres\",\"palmer\",\"fale old settlement\",\"cabo san lucas\",\"sonsorol village\",\"dudinka\",\"enewetak\",\"tranovaho\",\"malpica\",\"tyrnyauz\",\"salinopolis\",\"al kharijah\",\"el vigia\",\"fada\",\"oroqen zizhiqi\",\"santana do livramento\",\"margate\",\"smithers\",\"white oak\",\"lapaha\",\"mount darwin\",\"pokhara\",\"tyul'kubas\",\"inashiki\",\"vera cruz\",\"road town\",\"saratamata\",\"khandyga\",\"howard springs\",\"thinadhoo\",\"eregli\",\"vila do maio\",\"lib\",\"duncan town\",\"reggane\",\"hadibu\",\"acarau\",\"kourou\",\"sisimiut\",\"amga\",\"laminusa\",\"idabel\",\"beaufort west\",\"vanimo\",\"lake albert\",\"guerrero negro\",\"dunedin\",\"yuyao\",\"biratnagar\",\"stephenville\",\"mil'kovo\",\"conceicao da barra\",\"broome\",\"nkhata bay\",\"bemetara\",\"keflavik\",\"general conesa\",\"yomra\",\"pacocha\",\"laguna\",\"greymouth\",\"rio grande\",\"dese\",\"horsham\",\"paita\",\"brokopondo\",\"dawei\",\"waingapu\",\"conduaga\",\"idri\",\"bela crkva\",\"luanda\",\"maiwut\",\"island harbour\",\"new norfolk\",\"muzayri'\",\"nantucket\",\"greenville\",\"cape coast\",\"arica\",\"tucuma\",\"manokwari\",\"port saint john's\",\"guixi\",\"tirat karmel\",\"avarua\",\"dawesville\",\"tereze\",\"ancud\",\"sao vicente\",\"sinabang\",\"alenquer\",\"bulayevo\",\"kenai\",\"balykshi\",\"kruisfontein\",\"puerto armuelles\",\"hotan\",\"jijiga\",\"le pouliguen\",\"kota bharu\",\"nouadhibou\",\"urangan\",\"hobyo\",\"abhar\",\"aripuana\",\"tera\",\"sabang\",\"kingston\",\"whangarei\",\"carinhanha\",\"celestun\",\"rabaul\",\"pudasjarvi\",\"carutapera\",\"porto novo\",\"northam\",\"tobi village\",\"paradip garh\",\"darwin\",\"musay'id\",\"sikeston\",\"saint-francois\",\"dawson creek\",\"campbellton\",\"opuwo\",\"coelho neto\",\"staraya mayna\",\"buenaventura\",\"agat village\",\"ijuw\",\"shalkar\",\"nemuro\",\"carmo do paranaiba\",\"villa berthet\",\"preobrazheniye\",\"mount pearl\",\"regen\",\"loch garman\",\"bardai\",\"nishon tumani\",\"fort bragg\",\"kapuskasing\",\"winnipeg\",\"salalah\",\"bubaque\",\"altamira\",\"obock\",\"badiyah\",\"puerto san carlos\",\"jayapura\",\"tadine\",\"umatac village\",\"ust-tsilma\",\"coquimbo\",\"jianshui\",\"ca mau\",\"frederico westphalen\",\"sao paulo de olivenca\",\"boguchany\",\"pandan\",\"queenstown\",\"katsina\",\"mount isa\",\"bikenibeu village\",\"ocos\",\"qalat\",\"hastings\",\"wajir\",\"sheksna\",\"ketchikan\",\"reitz\",\"antsiranana\",\"nar'yan-mar\",\"gobabis\",\"ikalamavony\",\"cumaribo\",\"arvayheer\",\"puerto lempira\",\"port lincoln\",\"strezhevoy\",\"north platte\",\"karamay\",\"amos\",\"oriximina\",\"hachinohe\",\"kokkola\",\"aras-asan\",\"sorong\",\"vilyuysk\",\"santa ana\",\"aragarcas\",\"inhambane\",\"kone\",\"cable beach\",\"at taj\",\"burnie\",\"myawadi\",\"witu\",\"tamanrasset\",\"chandler\",\"ornskoldsvik\",\"boonville\",\"loango\",\"el calafate\",\"ust'-kulom\",\"champerico\",\"yuzhno-kurilsk\",\"rongelap\",\"setun'\",\"kismayo\",\"shache\",\"mhamid\",\"lospalos\",\"toga village\",\"eirunepe\",\"qui nhon\",\"dazhong\",\"babolsar\",\"nuuk\",\"maitum\",\"hami\",\"priargunsk\",\"suez\",\"saint-joseph\",\"broken hill\",\"ola\",\"tyup\",\"winslow\",\"puerto ayacucho\",\"klimavichy\",\"haiku-pauwela\",\"selfoss\",\"brigantine\",\"sheopur\",\"coahuayana de hidalgo\",\"antofagasta\",\"balqash\",\"kayes\",\"san-pedro\",\"north shore\",\"anloga\",\"codrington\",\"miandrivazo\",\"cole harbour\",\"mitu\",\"tocopilla\",\"dryden\",\"basco\",\"ekibastuz\",\"okhotsk\",\"safranbolu\",\"diebougou\",\"parlakimidi\",\"medenine\",\"mahina\",\"raja\",\"belyy yar\",\"arraial do cabo\",\"maun\",\"orillia\",\"gereida\",\"serang\",\"medina\",\"berkhamsted\",\"mont-dore\",\"vallenar\",\"guanhaes\",\"i-n-salah\",\"devinuwara\",\"kargopol'\",\"tiszaujvaros\",\"colonia menno\",\"howrah\",\"port alfred\",\"leninsk-kuznetsky\",\"morehead city\",\"lively\",\"lodja\",\"tual\",\"al ghayzah\",\"colonia\",\"laibin\",\"mccook\",\"trincomalee\",\"sao joao da barra\",\"vorgashor\",\"funadhoo\",\"mutoko\",\"'ain el hadjar\",\"sona\",\"balcarce\",\"betio village\",\"vanino\",\"grand-lahou\",\"portland\",\"bathurst\",\"altai\",\"chake chake\",\"ariquemes\",\"virginia\",\"rebrikha\",\"bhamo\",\"banda aceh\",\"aykol\",\"san felice circeo\",\"fortuna\",\"ghadamis\",\"salamanca\",\"burutu\",\"alcains\",\"jindabyne\",\"klaksvik\",\"graaff-reinet\",\"kiruna\",\"la esperanza\",\"abepura\",\"inarajan village\",\"segou\",\"kimbe\",\"nizhnesortymskiy\",\"tregunc\",\"borisoglebsk\",\"panorama\",\"tupiza\",\"rundu\",\"lumberton\",\"paranhos\",\"tukrah\",\"orsa\",\"santarem\",\"nola\",\"lodwar\",\"obigarm\"]],[\"size\",{\"type\":\"ndarray\",\"array\":{\"type\":\"bytes\",\"data\":\"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\"},\"shape\":[598],\"dtype\":\"float64\",\"order\":\"little\"}]]}}},\"view\":{\"type\":\"object\",\"name\":\"CDSView\",\"id\":\"p1428\",\"attributes\":{\"filter\":{\"type\":\"object\",\"name\":\"AllIndices\",\"id\":\"p1429\"}}},\"glyph\":{\"type\":\"object\",\"name\":\"Scatter\",\"id\":\"p1422\",\"attributes\":{\"tags\":[\"apply_ranges\"],\"x\":{\"type\":\"field\",\"field\":\"Lng\"},\"y\":{\"type\":\"field\",\"field\":\"Lat\"},\"size\":{\"type\":\"field\",\"field\":\"size\"},\"line_color\":{\"type\":\"field\",\"field\":\"color\",\"transform\":{\"type\":\"object\",\"name\":\"CategoricalColorMapper\",\"id\":\"p1415\",\"attributes\":{\"palette\":[\"#1f77b3\",\"#ff7e0e\",\"#2ba02b\",\"#d62628\",\"#9367bc\",\"#8c564b\",\"#e277c1\",\"#7e7e7e\",\"#bcbc21\",\"#16bdcf\",\"#3a0182\",\"#004201\",\"#0fffa8\",\"#5d003f\",\"#bcbcff\",\"#d8afa1\",\"#b80080\",\"#004d52\",\"#6b6400\",\"#7c0100\",\"#6026ff\",\"#ffff9a\",\"#564964\",\"#8cb893\",\"#93fbff\",\"#018267\",\"#90ff00\",\"#8200a0\",\"#ac8944\",\"#5b3400\",\"#ffbff2\",\"#ff6e75\",\"#798cff\",\"#dd00ff\",\"#505646\",\"#004489\",\"#ffbf60\",\"#ff018c\",\"#bdc8cf\",\"#af97b5\",\"#b65600\",\"#017000\",\"#cd87ff\",\"#1cd646\",\"#bfebc3\",\"#7997b5\",\"#a56089\",\"#6e8956\",\"#bc7c75\",\"#8a2844\",\"#00acff\",\"#8ed4ff\",\"#4b6d77\",\"#00d4b1\",\"#9300f2\",\"#8a9500\",\"#5d5b9e\",\"#fddfba\",\"#00939e\",\"#ffdb00\",\"#00aa79\",\"#520067\",\"#000091\",\"#0a5d3d\",\"#a5e275\",\"#623b41\",\"#c6c689\",\"#ff9eb5\",\"#cd4f6b\",\"#ff07d6\",\"#8a3a05\",\"#7e3d70\",\"#ff4901\",\"#602ba5\",\"#1c00ff\",\"#e6dfff\",\"#aa3baf\",\"#d89c00\",\"#a3a39e\",\"#3f69ff\",\"#46490c\",\"#7b6985\",\"#6b978c\",\"#ff9a75\",\"#835bff\",\"#7c6b46\",\"#80b654\",\"#bc0049\",\"#fd93ff\",\"#5d0018\",\"#89d1d1\",\"#9c8cd3\",\"#da6d42\",\"#8a5700\",\"#3b5069\",\"#4b6b3b\",\"#edcfd8\",\"#cfedff\",\"#aa1500\",\"#dfff4f\",\"#ff2a56\",\"#d1499e\",\"#707cb8\",\"#598000\",\"#00e4fd\",\"#774b95\",\"#67d48c\",\"#3d3a72\",\"#ac413f\",\"#d6a166\",\"#c169cd\",\"#69595d\",\"#87aced\",\"#a0a569\",\"#d1aae6\",\"#870062\",\"#00fddb\",\"#672818\",\"#b342ff\",\"#0e59c4\",\"#168742\",\"#90d300\",\"#cd7900\",\"#f959ff\",\"#5b7466\",\"#8eaeb3\",\"#9c7c8c\",\"#4600c6\",\"#6b4d2d\",\"#a56d46\",\"#9e8972\",\"#a8afca\",\"#cd8ca7\",\"#00fd64\",\"#917900\",\"#ff62a1\",\"#f4ffd8\",\"#018cf0\",\"#13aca0\",\"#5b2d59\",\"#89859e\",\"#cfccba\",\"#d4afc4\",\"#dbdd6d\",\"#cffff4\",\"#006485\",\"#006962\",\"#a84167\",\"#2d97c4\",\"#a874ff\",\"#26ba5d\",\"#57b600\",\"#caffa7\",\"#a379aa\",\"#ffbc93\",\"#89e2c1\",\"#0fc8ff\",\"#d400c4\",\"#626d89\",\"#69858e\",\"#4b4d52\",\"#aa6067\",\"#79b5d4\",\"#2b5916\",\"#9a0024\",\"#bdd1f2\",\"#896e67\",\"#69a56b\",\"#855467\",\"#aecdba\",\"#87997e\",\"#cadb00\",\"#9a0390\",\"#ebbc1a\",\"#eb9cd1\",\"#70006e\",\"#b1a131\",\"#ca6b93\",\"#4146a3\",\"#e48c89\",\"#d44400\",\"#c68aca\",\"#b69597\",\"#d41f75\",\"#724bcc\",\"#674d00\",\"#672138\",\"#38564f\",\"#6ebaaa\",\"#853a31\",\"#a5d397\",\"#b8af8e\",\"#d8e4df\",\"#aa00df\",\"#cac1db\",\"#ffdf8c\",\"#e2524d\",\"#66696e\",\"#ff001c\",\"#522d72\",\"#4d906b\",\"#a86d11\",\"#ff9e26\",\"#5ea3af\",\"#c88556\",\"#915997\",\"#a3a1ff\",\"#fdbaba\",\"#242a87\",\"#dbe6a8\",\"#97f2a7\",\"#6793d6\",\"#ba5b3f\",\"#3a5d91\",\"#364f2f\",\"#267c95\",\"#89959a\",\"#cfb356\",\"#004664\",\"#5e5d2f\",\"#8e8e41\",\"#ac3f13\",\"#69953b\",\"#a13d85\",\"#bfb6ba\",\"#acc667\",\"#6469cf\",\"#91af00\",\"#2be2da\",\"#016e36\",\"#ff7952\",\"#42807e\",\"#4fe800\",\"#995428\",\"#5d0a00\",\"#a30057\",\"#0c8700\",\"#5982a7\",\"#ffebfb\",\"#4b6901\",\"#8775d4\",\"#e6c6ff\",\"#a5ffda\",\"#d86e77\",\"#df014b\",\"#69675b\",\"#776ba1\",\"#7e8067\",\"#594685\",\"#0000ca\",\"#7c002a\",\"#97ff72\",\"#b5e2e1\",\"#db52c8\",\"#777734\",\"#57bd8e\",\"#1f77b3\",\"#ff7e0e\",\"#2ba02b\",\"#d62628\",\"#9367bc\",\"#8c564b\",\"#e277c1\",\"#7e7e7e\",\"#bcbc21\",\"#16bdcf\",\"#3a0182\",\"#004201\",\"#0fffa8\",\"#5d003f\",\"#bcbcff\",\"#d8afa1\",\"#b80080\",\"#004d52\",\"#6b6400\",\"#7c0100\",\"#6026ff\",\"#ffff9a\",\"#564964\",\"#8cb893\",\"#93fbff\",\"#018267\",\"#90ff00\",\"#8200a0\",\"#ac8944\",\"#5b3400\",\"#ffbff2\",\"#ff6e75\",\"#798cff\",\"#dd00ff\",\"#505646\",\"#004489\",\"#ffbf60\",\"#ff018c\",\"#bdc8cf\",\"#af97b5\",\"#b65600\",\"#017000\",\"#cd87ff\",\"#1cd646\",\"#bfebc3\",\"#7997b5\",\"#a56089\",\"#6e8956\",\"#bc7c75\",\"#8a2844\",\"#00acff\",\"#8ed4ff\",\"#4b6d77\",\"#00d4b1\",\"#9300f2\",\"#8a9500\",\"#5d5b9e\",\"#fddfba\",\"#00939e\",\"#ffdb00\",\"#00aa79\",\"#520067\",\"#000091\",\"#0a5d3d\",\"#a5e275\",\"#623b41\",\"#c6c689\",\"#ff9eb5\",\"#cd4f6b\",\"#ff07d6\",\"#8a3a05\",\"#7e3d70\",\"#ff4901\",\"#602ba5\",\"#1c00ff\",\"#e6dfff\",\"#aa3baf\",\"#d89c00\",\"#a3a39e\",\"#3f69ff\",\"#46490c\",\"#7b6985\",\"#6b978c\",\"#ff9a75\",\"#835bff\",\"#7c6b46\",\"#80b654\",\"#bc0049\",\"#fd93ff\",\"#5d0018\",\"#89d1d1\",\"#9c8cd3\",\"#da6d42\",\"#8a5700\",\"#3b5069\",\"#4b6b3b\",\"#edcfd8\",\"#cfedff\",\"#aa1500\",\"#dfff4f\",\"#ff2a56\",\"#d1499e\",\"#707cb8\",\"#598000\",\"#00e4fd\",\"#774b95\",\"#67d48c\",\"#3d3a72\",\"#ac413f\",\"#d6a166\",\"#c169cd\",\"#69595d\",\"#87aced\",\"#a0a569\",\"#d1aae6\",\"#870062\",\"#00fddb\",\"#672818\",\"#b342ff\",\"#0e59c4\",\"#168742\",\"#90d300\",\"#cd7900\",\"#f959ff\",\"#5b7466\",\"#8eaeb3\",\"#9c7c8c\",\"#4600c6\",\"#6b4d2d\",\"#a56d46\",\"#9e8972\",\"#a8afca\",\"#cd8ca7\",\"#00fd64\",\"#917900\",\"#ff62a1\",\"#f4ffd8\",\"#018cf0\",\"#13aca0\",\"#5b2d59\",\"#89859e\",\"#cfccba\",\"#d4afc4\",\"#dbdd6d\",\"#cffff4\",\"#006485\",\"#006962\",\"#a84167\",\"#2d97c4\",\"#a874ff\",\"#26ba5d\",\"#57b600\",\"#caffa7\",\"#a379aa\",\"#ffbc93\",\"#89e2c1\",\"#0fc8ff\",\"#d400c4\",\"#626d89\",\"#69858e\",\"#4b4d52\",\"#aa6067\",\"#79b5d4\",\"#2b5916\",\"#9a0024\",\"#bdd1f2\",\"#896e67\",\"#69a56b\",\"#855467\",\"#aecdba\",\"#87997e\",\"#cadb00\",\"#9a0390\",\"#ebbc1a\",\"#eb9cd1\",\"#70006e\",\"#b1a131\",\"#ca6b93\",\"#4146a3\",\"#e48c89\",\"#d44400\",\"#c68aca\",\"#b69597\",\"#d41f75\",\"#724bcc\",\"#674d00\",\"#672138\",\"#38564f\",\"#6ebaaa\",\"#853a31\",\"#a5d397\",\"#b8af8e\",\"#d8e4df\",\"#aa00df\",\"#cac1db\",\"#ffdf8c\",\"#e2524d\",\"#66696e\",\"#ff001c\",\"#522d72\",\"#4d906b\",\"#a86d11\",\"#ff9e26\",\"#5ea3af\",\"#c88556\",\"#915997\",\"#a3a1ff\",\"#fdbaba\",\"#242a87\",\"#dbe6a8\",\"#97f2a7\",\"#6793d6\",\"#ba5b3f\",\"#3a5d91\",\"#364f2f\",\"#267c95\",\"#89959a\",\"#cfb356\",\"#004664\",\"#5e5d2f\",\"#8e8e41\",\"#ac3f13\",\"#69953b\",\"#a13d85\",\"#bfb6ba\",\"#acc667\",\"#6469cf\",\"#91af00\",\"#2be2da\",\"#016e36\",\"#ff7952\",\"#42807e\",\"#4fe800\",\"#995428\",\"#5d0a00\",\"#a30057\",\"#0c8700\",\"#5982a7\",\"#ffebfb\",\"#4b6901\",\"#8775d4\",\"#e6c6ff\",\"#a5ffda\",\"#d86e77\",\"#df014b\",\"#69675b\",\"#776ba1\",\"#7e8067\",\"#594685\",\"#0000ca\",\"#7c002a\",\"#97ff72\",\"#b5e2e1\",\"#db52c8\",\"#777734\",\"#57bd8e\",\"#1f77b3\",\"#ff7e0e\",\"#2ba02b\",\"#d62628\",\"#9367bc\",\"#8c564b\",\"#e277c1\",\"#7e7e7e\",\"#bcbc21\",\"#16bdcf\",\"#3a0182\",\"#004201\",\"#0fffa8\",\"#5d003f\",\"#bcbcff\",\"#d8afa1\",\"#b80080\",\"#004d52\",\"#6b6400\",\"#7c0100\",\"#6026ff\",\"#ffff9a\",\"#564964\",\"#8cb893\",\"#93fbff\",\"#018267\",\"#90ff00\",\"#8200a0\",\"#ac8944\",\"#5b3400\",\"#ffbff2\",\"#ff6e75\",\"#798cff\",\"#dd00ff\",\"#505646\",\"#004489\",\"#ffbf60\",\"#ff018c\",\"#bdc8cf\",\"#af97b5\",\"#b65600\",\"#017000\",\"#cd87ff\",\"#1cd646\",\"#bfebc3\",\"#7997b5\",\"#a56089\",\"#6e8956\",\"#bc7c75\",\"#8a2844\",\"#00acff\",\"#8ed4ff\",\"#4b6d77\",\"#00d4b1\",\"#9300f2\",\"#8a9500\",\"#5d5b9e\",\"#fddfba\",\"#00939e\",\"#ffdb00\",\"#00aa79\",\"#520067\",\"#000091\",\"#0a5d3d\",\"#a5e275\",\"#623b41\",\"#c6c689\",\"#ff9eb5\",\"#cd4f6b\",\"#ff07d6\",\"#8a3a05\",\"#7e3d70\",\"#ff4901\",\"#602ba5\",\"#1c00ff\",\"#e6dfff\",\"#aa3baf\",\"#d89c00\",\"#a3a39e\",\"#3f69ff\",\"#46490c\",\"#7b6985\",\"#6b978c\",\"#ff9a75\",\"#835bff\",\"#7c6b46\"],\"factors\":[\"yangambi\",\"revda\",\"posto fiscal rolim de moura\",\"waitangi\",\"blackmans bay\",\"hithadhoo\",\"walvis bay\",\"laayoune\",\"uturoa\",\"albany\",\"adamstown\",\"tiksi\",\"edinburgh of the seven seas\",\"talnakh\",\"coyhaique\",\"labrador city\",\"taiohae\",\"college\",\"hermanus\",\"am djarass\",\"jamestown\",\"ust-nera\",\"atafu village\",\"quang ngai\",\"vadso\",\"san julian\",\"cidreira\",\"borogontsy\",\"juneau\",\"port-aux-francais\",\"homer\",\"acapulco de juarez\",\"georgetown\",\"remire-montjoly\",\"rabo de peixe\",\"olonkinbyen\",\"invercargill\",\"grytviken\",\"san juan\",\"east london\",\"anar darah\",\"zaozersk\",\"al bawiti\",\"al 'alamayn\",\"lenger\",\"aasiaat\",\"whitehorse\",\"port alberni\",\"anadyr\",\"puranpur\",\"rajmahal\",\"yellowknife\",\"malvan\",\"punta arenas\",\"chonchi\",\"kodiak\",\"tura\",\"bethel\",\"vila velha\",\"vilyuchinsk\",\"whyalla stuart\",\"qaqortoq\",\"flying fish cove\",\"wailua homesteads\",\"bilibino\",\"alofi\",\"hamilton\",\"nova sintra\",\"carnarvon\",\"hasaki\",\"antonio enes\",\"bonthe\",\"fort stockton\",\"udachny\",\"orichi\",\"ihosy\",\"bentota\",\"okahandja\",\"pikalevo\",\"klyuchi\",\"happy valley-goose bay\",\"cadale\",\"petropavlovsk-kamchatsky\",\"stanley\",\"aleksandrovskoye\",\"santa rosa\",\"kursenai\",\"cockburn town\",\"san luis\",\"es castell\",\"thompson\",\"pangody\",\"sola\",\"kupino\",\"fuvahmulah\",\"kavaratti\",\"lebu\",\"ciudad victoria\",\"san patricio\",\"tsetserleg\",\"susuman\",\"cabedelo\",\"zhob\",\"hawaiian paradise park\",\"orapa\",\"saint-pierre\",\"baoding\",\"juegang\",\"port mathurin\",\"taoudenni\",\"chupaca\",\"puerto ayora\",\"sant carles de la rapita\",\"ribeira grande\",\"lata\",\"yeosu\",\"la passe\",\"hikari\",\"aykhal\",\"iqaluit\",\"midvagur\",\"axim\",\"brookings\",\"pathein\",\"port elizabeth\",\"weno\",\"bredasdorp\",\"mantua\",\"tachilek\",\"margaret river\",\"'ohonua\",\"nogliki\",\"camarinas\",\"kenora\",\"manggar\",\"papatowai\",\"hilo\",\"puerto natales\",\"ushuaia\",\"polyarnyy\",\"domat\",\"kailua-kona\",\"labasa\",\"dwarka\",\"saldanha\",\"gaiman\",\"redencao\",\"mugia\",\"tolanaro\",\"krasnozerskoye\",\"utrik\",\"arthur's town\",\"badger\",\"lompoc\",\"kilkenny\",\"lindlar\",\"tomatlan\",\"afif\",\"ghat\",\"luderitz\",\"alaghsas\",\"dickinson\",\"kiunga\",\"ivanec\",\"constantia\",\"ahau\",\"connell\",\"isafjordur\",\"ilulissat\",\"korsakov\",\"mount gambier\",\"mach\",\"west island\",\"lubny\",\"sant lluis\",\"narasannapeta\",\"luganville\",\"mugumu\",\"uaua\",\"vingt cinq\",\"zyryanovsk\",\"novodvinsk\",\"longyearbyen\",\"ankazoabo\",\"sile\",\"lihue\",\"gulf breeze\",\"fort st. john\",\"bodaybo\",\"filadelfia\",\"igarka\",\"buon ma thuot\",\"kanniyakumari\",\"novyy urgal\",\"rustenburg\",\"yatou\",\"beya\",\"newman\",\"brisas de zicatela\",\"copala\",\"lebanon\",\"sawang daen din\",\"conception bay south\",\"biritiba mirim\",\"faya-largeau\",\"caleta de carquin\",\"forster\",\"hakkari\",\"nieuw amsterdam\",\"yaren\",\"oualidia\",\"tralee\",\"kittila\",\"tazovsky\",\"al marj\",\"ust'-ilimsk\",\"santa terezinha\",\"naze\",\"micheweni\",\"lautoka\",\"dumai\",\"tsiombe\",\"holualoa\",\"natal\",\"sitka\",\"punta del este\",\"crucecita\",\"alotau\",\"dubbo\",\"fuglafjordur\",\"kolonia\",\"iskateley\",\"benguela\",\"hayma'\",\"sodankyla\",\"bazarnyye mataki\",\"saipan\",\"okha\",\"freetown\",\"callao\",\"usogorsk\",\"prince rupert\",\"kirensk\",\"alice springs\",\"chandbali\",\"touros\",\"sandnessjoen\",\"san antonio de pale\",\"stantsiya novyy afon\",\"afaahiti\",\"saint-philippe\",\"kristiansund\",\"niafunke\",\"bairnsdale\",\"st. john's\",\"taichung\",\"machico\",\"bodo\",\"kstovo\",\"panaba\",\"grenaa\",\"namibe\",\"galliano\",\"mora\",\"durres\",\"palmer\",\"fale old settlement\",\"cabo san lucas\",\"sonsorol village\",\"dudinka\",\"enewetak\",\"tranovaho\",\"malpica\",\"tyrnyauz\",\"salinopolis\",\"al kharijah\",\"el vigia\",\"fada\",\"oroqen zizhiqi\",\"santana do livramento\",\"margate\",\"smithers\",\"white oak\",\"lapaha\",\"mount darwin\",\"pokhara\",\"tyul'kubas\",\"inashiki\",\"vera cruz\",\"road town\",\"saratamata\",\"khandyga\",\"howard springs\",\"thinadhoo\",\"eregli\",\"vila do maio\",\"lib\",\"duncan town\",\"reggane\",\"hadibu\",\"acarau\",\"kourou\",\"sisimiut\",\"amga\",\"laminusa\",\"idabel\",\"beaufort west\",\"vanimo\",\"lake albert\",\"guerrero negro\",\"dunedin\",\"yuyao\",\"biratnagar\",\"stephenville\",\"mil'kovo\",\"conceicao da barra\",\"broome\",\"nkhata bay\",\"bemetara\",\"keflavik\",\"general conesa\",\"yomra\",\"pacocha\",\"laguna\",\"greymouth\",\"rio grande\",\"dese\",\"horsham\",\"paita\",\"brokopondo\",\"dawei\",\"waingapu\",\"conduaga\",\"idri\",\"bela crkva\",\"luanda\",\"maiwut\",\"island harbour\",\"new norfolk\",\"muzayri'\",\"nantucket\",\"greenville\",\"cape coast\",\"arica\",\"tucuma\",\"manokwari\",\"port saint john's\",\"guixi\",\"tirat karmel\",\"avarua\",\"dawesville\",\"tereze\",\"ancud\",\"sao vicente\",\"sinabang\",\"alenquer\",\"bulayevo\",\"kenai\",\"balykshi\",\"kruisfontein\",\"puerto armuelles\",\"hotan\",\"jijiga\",\"le pouliguen\",\"kota bharu\",\"nouadhibou\",\"urangan\",\"hobyo\",\"abhar\",\"aripuana\",\"tera\",\"sabang\",\"kingston\",\"whangarei\",\"carinhanha\",\"celestun\",\"rabaul\",\"pudasjarvi\",\"carutapera\",\"porto novo\",\"northam\",\"tobi village\",\"paradip garh\",\"darwin\",\"musay'id\",\"sikeston\",\"saint-francois\",\"dawson creek\",\"campbellton\",\"opuwo\",\"coelho neto\",\"staraya mayna\",\"buenaventura\",\"agat village\",\"ijuw\",\"shalkar\",\"nemuro\",\"carmo do paranaiba\",\"villa berthet\",\"preobrazheniye\",\"mount pearl\",\"regen\",\"loch garman\",\"bardai\",\"nishon tumani\",\"fort bragg\",\"kapuskasing\",\"winnipeg\",\"salalah\",\"bubaque\",\"altamira\",\"obock\",\"badiyah\",\"puerto san carlos\",\"jayapura\",\"tadine\",\"umatac village\",\"ust-tsilma\",\"coquimbo\",\"jianshui\",\"ca mau\",\"frederico westphalen\",\"sao paulo de olivenca\",\"boguchany\",\"pandan\",\"queenstown\",\"katsina\",\"mount isa\",\"bikenibeu village\",\"ocos\",\"qalat\",\"hastings\",\"wajir\",\"sheksna\",\"ketchikan\",\"reitz\",\"antsiranana\",\"nar'yan-mar\",\"gobabis\",\"ikalamavony\",\"cumaribo\",\"arvayheer\",\"puerto lempira\",\"port lincoln\",\"strezhevoy\",\"north platte\",\"karamay\",\"amos\",\"oriximina\",\"hachinohe\",\"kokkola\",\"aras-asan\",\"sorong\",\"vilyuysk\",\"santa ana\",\"aragarcas\",\"inhambane\",\"kone\",\"cable beach\",\"at taj\",\"burnie\",\"myawadi\",\"witu\",\"tamanrasset\",\"chandler\",\"ornskoldsvik\",\"boonville\",\"loango\",\"el calafate\",\"ust'-kulom\",\"champerico\",\"yuzhno-kurilsk\",\"rongelap\",\"setun'\",\"kismayo\",\"shache\",\"mhamid\",\"lospalos\",\"toga village\",\"eirunepe\",\"qui nhon\",\"dazhong\",\"babolsar\",\"nuuk\",\"maitum\",\"hami\",\"priargunsk\",\"suez\",\"saint-joseph\",\"broken hill\",\"ola\",\"tyup\",\"winslow\",\"puerto ayacucho\",\"klimavichy\",\"haiku-pauwela\",\"selfoss\",\"brigantine\",\"sheopur\",\"coahuayana de hidalgo\",\"antofagasta\",\"balqash\",\"kayes\",\"san-pedro\",\"north shore\",\"anloga\",\"codrington\",\"miandrivazo\",\"cole harbour\",\"mitu\",\"tocopilla\",\"dryden\",\"basco\",\"ekibastuz\",\"okhotsk\",\"safranbolu\",\"diebougou\",\"parlakimidi\",\"medenine\",\"mahina\",\"raja\",\"belyy yar\",\"arraial do cabo\",\"maun\",\"orillia\",\"gereida\",\"serang\",\"medina\",\"berkhamsted\",\"mont-dore\",\"vallenar\",\"guanhaes\",\"i-n-salah\",\"devinuwara\",\"kargopol'\",\"tiszaujvaros\",\"colonia menno\",\"howrah\",\"port alfred\",\"leninsk-kuznetsky\",\"morehead city\",\"lively\",\"lodja\",\"tual\",\"al ghayzah\",\"colonia\",\"laibin\",\"mccook\",\"trincomalee\",\"sao joao da barra\",\"vorgashor\",\"funadhoo\",\"mutoko\",\"'ain el hadjar\",\"sona\",\"balcarce\",\"betio village\",\"vanino\",\"grand-lahou\",\"portland\",\"bathurst\",\"altai\",\"chake chake\",\"ariquemes\",\"virginia\",\"rebrikha\",\"bhamo\",\"banda aceh\",\"aykol\",\"san felice circeo\",\"fortuna\",\"ghadamis\",\"salamanca\",\"burutu\",\"alcains\",\"jindabyne\",\"klaksvik\",\"graaff-reinet\",\"kiruna\",\"la esperanza\",\"abepura\",\"inarajan village\",\"segou\",\"kimbe\",\"nizhnesortymskiy\",\"tregunc\",\"borisoglebsk\",\"panorama\",\"tupiza\",\"rundu\",\"lumberton\",\"paranhos\",\"tukrah\",\"orsa\",\"santarem\",\"nola\",\"lodwar\",\"obigarm\"]}}},\"line_alpha\":{\"type\":\"value\",\"value\":0.6},\"fill_color\":{\"type\":\"field\",\"field\":\"color\",\"transform\":{\"id\":\"p1415\"}},\"fill_alpha\":{\"type\":\"value\",\"value\":0.6},\"hatch_color\":{\"type\":\"field\",\"field\":\"color\",\"transform\":{\"id\":\"p1415\"}},\"hatch_alpha\":{\"type\":\"value\",\"value\":0.6}}},\"selection_glyph\":{\"type\":\"object\",\"name\":\"Scatter\",\"id\":\"p1424\",\"attributes\":{\"tags\":[\"apply_ranges\"],\"x\":{\"type\":\"field\",\"field\":\"Lng\"},\"y\":{\"type\":\"field\",\"field\":\"Lat\"},\"size\":{\"type\":\"field\",\"field\":\"size\"},\"line_color\":{\"type\":\"field\",\"field\":\"color\",\"transform\":{\"id\":\"p1415\"}},\"line_alpha\":{\"type\":\"value\",\"value\":0.6},\"fill_color\":{\"type\":\"field\",\"field\":\"color\",\"transform\":{\"id\":\"p1415\"}},\"fill_alpha\":{\"type\":\"value\",\"value\":0.6},\"hatch_color\":{\"type\":\"field\",\"field\":\"color\",\"transform\":{\"id\":\"p1415\"}},\"hatch_alpha\":{\"type\":\"value\",\"value\":0.6}}},\"nonselection_glyph\":{\"type\":\"object\",\"name\":\"Scatter\",\"id\":\"p1423\",\"attributes\":{\"tags\":[\"apply_ranges\"],\"x\":{\"type\":\"field\",\"field\":\"Lng\"},\"y\":{\"type\":\"field\",\"field\":\"Lat\"},\"size\":{\"type\":\"field\",\"field\":\"size\"},\"line_color\":{\"type\":\"field\",\"field\":\"color\",\"transform\":{\"id\":\"p1415\"}},\"line_alpha\":{\"type\":\"value\",\"value\":0.6},\"fill_color\":{\"type\":\"field\",\"field\":\"color\",\"transform\":{\"id\":\"p1415\"}},\"fill_alpha\":{\"type\":\"value\",\"value\":0.6},\"hatch_color\":{\"type\":\"field\",\"field\":\"color\",\"transform\":{\"id\":\"p1415\"}},\"hatch_alpha\":{\"type\":\"value\",\"value\":0.1}}},\"hover_glyph\":{\"type\":\"object\",\"name\":\"Scatter\",\"id\":\"p1425\",\"attributes\":{\"tags\":[\"apply_ranges\"],\"x\":{\"type\":\"field\",\"field\":\"Lng\"},\"y\":{\"type\":\"field\",\"field\":\"Lat\"},\"size\":{\"type\":\"field\",\"field\":\"size\"},\"line_color\":{\"type\":\"field\",\"field\":\"color\",\"transform\":{\"id\":\"p1415\"}},\"line_alpha\":{\"type\":\"value\",\"value\":0.6},\"fill_color\":{\"type\":\"field\",\"field\":\"color\",\"transform\":{\"id\":\"p1415\"}},\"fill_alpha\":{\"type\":\"value\",\"value\":0.6},\"hatch_color\":{\"type\":\"field\",\"field\":\"color\",\"transform\":{\"id\":\"p1415\"}},\"hatch_alpha\":{\"type\":\"value\",\"value\":0.6}}},\"muted_glyph\":{\"type\":\"object\",\"name\":\"Scatter\",\"id\":\"p1426\",\"attributes\":{\"tags\":[\"apply_ranges\"],\"x\":{\"type\":\"field\",\"field\":\"Lng\"},\"y\":{\"type\":\"field\",\"field\":\"Lat\"},\"size\":{\"type\":\"field\",\"field\":\"size\"},\"line_color\":{\"type\":\"field\",\"field\":\"color\",\"transform\":{\"id\":\"p1415\"}},\"line_alpha\":{\"type\":\"value\",\"value\":0.2},\"fill_color\":{\"type\":\"field\",\"field\":\"color\",\"transform\":{\"id\":\"p1415\"}},\"fill_alpha\":{\"type\":\"value\",\"value\":0.2},\"hatch_color\":{\"type\":\"field\",\"field\":\"color\",\"transform\":{\"id\":\"p1415\"}},\"hatch_alpha\":{\"type\":\"value\",\"value\":0.2}}}}}],\"toolbar\":{\"type\":\"object\",\"name\":\"Toolbar\",\"id\":\"p1387\",\"attributes\":{\"tools\":[{\"type\":\"object\",\"name\":\"WheelZoomTool\",\"id\":\"p1353\",\"attributes\":{\"renderers\":\"auto\",\"zoom_on_axis\":false}},{\"type\":\"object\",\"name\":\"BoxZoomTool\",\"id\":\"p1359\",\"attributes\":{\"overlay\":{\"type\":\"object\",\"name\":\"BoxAnnotation\",\"id\":\"p1354\",\"attributes\":{\"syncable\":false,\"level\":\"overlay\",\"visible\":false,\"left\":{\"type\":\"number\",\"value\":\"nan\"},\"right\":{\"type\":\"number\",\"value\":\"nan\"},\"top\":{\"type\":\"number\",\"value\":\"nan\"},\"bottom\":{\"type\":\"number\",\"value\":\"nan\"},\"left_units\":\"canvas\",\"right_units\":\"canvas\",\"top_units\":\"canvas\",\"bottom_units\":\"canvas\",\"line_color\":\"black\",\"line_alpha\":1.0,\"line_width\":2,\"line_dash\":[4,4],\"fill_color\":\"lightgrey\",\"fill_alpha\":0.5}},\"match_aspect\":true}},{\"type\":\"object\",\"name\":\"HoverTool\",\"id\":\"p1377\",\"attributes\":{\"tags\":[\"hv_created\"],\"renderers\":[{\"id\":\"p1427\"}],\"tooltips\":[[\"Lng\",\"$x{custom}\"],[\"Lat\",\"$y{custom}\"],[\"City\",\"@{City}\"],[\"Humidity\",\"@{Humidity}\"]],\"formatters\":{\"type\":\"map\",\"entries\":[[\"$x\",{\"type\":\"object\",\"name\":\"CustomJSHover\",\"id\":\"p1432\",\"attributes\":{\"code\":\"\\n        const projections = Bokeh.require(\\\"core/util/projections\\\");\\n        const {snap_x, snap_y} = special_vars\\n        const coords = projections.wgs84_mercator.invert(snap_x, snap_y)\\n        return \\\"\\\" + (coords[0]).toFixed(4)\\n    \"}}],[\"$y\",{\"type\":\"object\",\"name\":\"CustomJSHover\",\"id\":\"p1433\",\"attributes\":{\"code\":\"\\n        const projections = Bokeh.require(\\\"core/util/projections\\\");\\n        const {snap_x, snap_y} = special_vars\\n        const coords = projections.wgs84_mercator.invert(snap_x, snap_y)\\n        return \\\"\\\" + (coords[1]).toFixed(4)\\n    \"}}]]}}},{\"type\":\"object\",\"name\":\"PanTool\",\"id\":\"p1401\"},{\"type\":\"object\",\"name\":\"ResetTool\",\"id\":\"p1402\"}],\"active_drag\":{\"id\":\"p1401\"}}},\"left\":[{\"type\":\"object\",\"name\":\"LinearAxis\",\"id\":\"p1395\",\"attributes\":{\"ticker\":{\"type\":\"object\",\"name\":\"MercatorTicker\",\"id\":\"p1405\",\"attributes\":{\"mantissas\":[1,2,5],\"dimension\":\"lat\"}},\"formatter\":{\"type\":\"object\",\"name\":\"MercatorTickFormatter\",\"id\":\"p1406\",\"attributes\":{\"dimension\":\"lat\"}},\"axis_label\":\"Latitude\",\"major_label_policy\":{\"type\":\"object\",\"name\":\"AllLabels\",\"id\":\"p1398\"}}}],\"right\":[{\"type\":\"object\",\"name\":\"Legend\",\"id\":\"p1430\",\"attributes\":{\"location\":[0,0],\"click_policy\":\"mute\",\"items\":[{\"type\":\"object\",\"name\":\"LegendItem\",\"id\":\"p1431\",\"attributes\":{\"label\":{\"type\":\"field\",\"field\":\"color\"},\"renderers\":[{\"id\":\"p1427\"}]}}]}}],\"below\":[{\"type\":\"object\",\"name\":\"LinearAxis\",\"id\":\"p1390\",\"attributes\":{\"ticker\":{\"type\":\"object\",\"name\":\"MercatorTicker\",\"id\":\"p1403\",\"attributes\":{\"mantissas\":[1,2,5],\"dimension\":\"lon\"}},\"formatter\":{\"type\":\"object\",\"name\":\"MercatorTickFormatter\",\"id\":\"p1404\",\"attributes\":{\"dimension\":\"lon\"}},\"axis_label\":\"Longitude\",\"major_label_policy\":{\"type\":\"object\",\"name\":\"AllLabels\",\"id\":\"p1393\"}}}],\"center\":[{\"type\":\"object\",\"name\":\"Grid\",\"id\":\"p1394\",\"attributes\":{\"axis\":{\"id\":\"p1390\"},\"grid_line_color\":null}},{\"type\":\"object\",\"name\":\"Grid\",\"id\":\"p1399\",\"attributes\":{\"dimension\":1,\"axis\":{\"id\":\"p1395\"},\"grid_line_color\":null}}],\"frame_width\":800,\"frame_height\":600,\"min_border_top\":10,\"min_border_bottom\":10,\"min_border_left\":10,\"min_border_right\":10,\"output_backend\":\"webgl\",\"match_aspect\":true}},{\"type\":\"object\",\"name\":\"Spacer\",\"id\":\"p1435\",\"attributes\":{\"name\":\"HSpacer02128\",\"stylesheets\":[\"\\n:host(.pn-loading):before, .pn-loading:before {\\n  background-color: #c3c3c3;\\n  mask-size: auto calc(min(50%, 400px));\\n  -webkit-mask-size: auto calc(min(50%, 400px));\\n}\",{\"id\":\"p1338\"},{\"id\":\"p1336\"},{\"id\":\"p1337\"}],\"margin\":0,\"sizing_mode\":\"stretch_width\",\"align\":\"start\"}}]}}],\"defs\":[{\"type\":\"model\",\"name\":\"ReactiveHTML1\"},{\"type\":\"model\",\"name\":\"FlexBox1\",\"properties\":[{\"name\":\"align_content\",\"kind\":\"Any\",\"default\":\"flex-start\"},{\"name\":\"align_items\",\"kind\":\"Any\",\"default\":\"flex-start\"},{\"name\":\"flex_direction\",\"kind\":\"Any\",\"default\":\"row\"},{\"name\":\"flex_wrap\",\"kind\":\"Any\",\"default\":\"wrap\"},{\"name\":\"gap\",\"kind\":\"Any\",\"default\":\"\"},{\"name\":\"justify_content\",\"kind\":\"Any\",\"default\":\"flex-start\"}]},{\"type\":\"model\",\"name\":\"FloatPanel1\",\"properties\":[{\"name\":\"config\",\"kind\":\"Any\",\"default\":{\"type\":\"map\"}},{\"name\":\"contained\",\"kind\":\"Any\",\"default\":true},{\"name\":\"position\",\"kind\":\"Any\",\"default\":\"right-top\"},{\"name\":\"offsetx\",\"kind\":\"Any\",\"default\":null},{\"name\":\"offsety\",\"kind\":\"Any\",\"default\":null},{\"name\":\"theme\",\"kind\":\"Any\",\"default\":\"primary\"},{\"name\":\"status\",\"kind\":\"Any\",\"default\":\"normalized\"}]},{\"type\":\"model\",\"name\":\"GridStack1\",\"properties\":[{\"name\":\"mode\",\"kind\":\"Any\",\"default\":\"warn\"},{\"name\":\"ncols\",\"kind\":\"Any\",\"default\":null},{\"name\":\"nrows\",\"kind\":\"Any\",\"default\":null},{\"name\":\"allow_resize\",\"kind\":\"Any\",\"default\":true},{\"name\":\"allow_drag\",\"kind\":\"Any\",\"default\":true},{\"name\":\"state\",\"kind\":\"Any\",\"default\":[]}]},{\"type\":\"model\",\"name\":\"drag1\",\"properties\":[{\"name\":\"slider_width\",\"kind\":\"Any\",\"default\":5},{\"name\":\"slider_color\",\"kind\":\"Any\",\"default\":\"black\"},{\"name\":\"value\",\"kind\":\"Any\",\"default\":50}]},{\"type\":\"model\",\"name\":\"click1\",\"properties\":[{\"name\":\"terminal_output\",\"kind\":\"Any\",\"default\":\"\"},{\"name\":\"debug_name\",\"kind\":\"Any\",\"default\":\"\"},{\"name\":\"clears\",\"kind\":\"Any\",\"default\":0}]},{\"type\":\"model\",\"name\":\"FastWrapper1\",\"properties\":[{\"name\":\"object\",\"kind\":\"Any\",\"default\":null},{\"name\":\"style\",\"kind\":\"Any\",\"default\":null}]},{\"type\":\"model\",\"name\":\"NotificationAreaBase1\",\"properties\":[{\"name\":\"js_events\",\"kind\":\"Any\",\"default\":{\"type\":\"map\"}},{\"name\":\"position\",\"kind\":\"Any\",\"default\":\"bottom-right\"},{\"name\":\"_clear\",\"kind\":\"Any\",\"default\":0}]},{\"type\":\"model\",\"name\":\"NotificationArea1\",\"properties\":[{\"name\":\"js_events\",\"kind\":\"Any\",\"default\":{\"type\":\"map\"}},{\"name\":\"notifications\",\"kind\":\"Any\",\"default\":[]},{\"name\":\"position\",\"kind\":\"Any\",\"default\":\"bottom-right\"},{\"name\":\"_clear\",\"kind\":\"Any\",\"default\":0},{\"name\":\"types\",\"kind\":\"Any\",\"default\":[{\"type\":\"map\",\"entries\":[[\"type\",\"warning\"],[\"background\",\"#ffc107\"],[\"icon\",{\"type\":\"map\",\"entries\":[[\"className\",\"fas fa-exclamation-triangle\"],[\"tagName\",\"i\"],[\"color\",\"white\"]]}]]},{\"type\":\"map\",\"entries\":[[\"type\",\"info\"],[\"background\",\"#007bff\"],[\"icon\",{\"type\":\"map\",\"entries\":[[\"className\",\"fas fa-info-circle\"],[\"tagName\",\"i\"],[\"color\",\"white\"]]}]]}]}]},{\"type\":\"model\",\"name\":\"Notification\",\"properties\":[{\"name\":\"background\",\"kind\":\"Any\",\"default\":null},{\"name\":\"duration\",\"kind\":\"Any\",\"default\":3000},{\"name\":\"icon\",\"kind\":\"Any\",\"default\":null},{\"name\":\"message\",\"kind\":\"Any\",\"default\":\"\"},{\"name\":\"notification_type\",\"kind\":\"Any\",\"default\":null},{\"name\":\"_destroyed\",\"kind\":\"Any\",\"default\":false}]},{\"type\":\"model\",\"name\":\"TemplateActions1\",\"properties\":[{\"name\":\"open_modal\",\"kind\":\"Any\",\"default\":0},{\"name\":\"close_modal\",\"kind\":\"Any\",\"default\":0}]},{\"type\":\"model\",\"name\":\"BootstrapTemplateActions1\",\"properties\":[{\"name\":\"open_modal\",\"kind\":\"Any\",\"default\":0},{\"name\":\"close_modal\",\"kind\":\"Any\",\"default\":0}]},{\"type\":\"model\",\"name\":\"TemplateEditor1\",\"properties\":[{\"name\":\"layout\",\"kind\":\"Any\",\"default\":[]}]},{\"type\":\"model\",\"name\":\"MaterialTemplateActions1\",\"properties\":[{\"name\":\"open_modal\",\"kind\":\"Any\",\"default\":0},{\"name\":\"close_modal\",\"kind\":\"Any\",\"default\":0}]},{\"type\":\"model\",\"name\":\"copy_to_clipboard1\",\"properties\":[{\"name\":\"fill\",\"kind\":\"Any\",\"default\":\"none\"},{\"name\":\"value\",\"kind\":\"Any\",\"default\":null}]}]}};\n",
       "  var render_items = [{\"docid\":\"1ed6dd91-430d-4132-9c45-ba7fe7cb902a\",\"roots\":{\"p1335\":\"d7698f6f-0804-407f-86fd-2d25d9653ebe\"},\"root_ids\":[\"p1335\"]}];\n",
       "  var docs = Object.values(docs_json)\n",
       "  if (!docs) {\n",
       "    return\n",
       "  }\n",
       "  const py_version = docs[0].version.replace('rc', '-rc.').replace('.dev', '-dev.')\n",
       "  async function embed_document(root) {\n",
       "    var Bokeh = get_bokeh(root)\n",
       "    await Bokeh.embed.embed_items_notebook(docs_json, render_items);\n",
       "    for (const render_item of render_items) {\n",
       "      for (const root_id of render_item.root_ids) {\n",
       "\tconst id_el = document.getElementById(root_id)\n",
       "\tif (id_el.children.length && id_el.children[0].hasAttribute('data-root-id')) {\n",
       "\t  const root_el = id_el.children[0]\n",
       "\t  root_el.id = root_el.id + '-rendered'\n",
       "\t  for (const child of root_el.children) {\n",
       "            // Ensure JupyterLab does not capture keyboard shortcuts\n",
       "            // see: https://jupyterlab.readthedocs.io/en/4.1.x/extension/notebook.html#keyboard-interaction-model\n",
       "\t    child.setAttribute('data-lm-suppress-shortcuts', 'true')\n",
       "\t  }\n",
       "\t}\n",
       "      }\n",
       "    }\n",
       "  }\n",
       "  function get_bokeh(root) {\n",
       "    if (root.Bokeh === undefined) {\n",
       "      return null\n",
       "    } else if (root.Bokeh.version !== py_version) {\n",
       "      if (root.Bokeh.versions === undefined || !root.Bokeh.versions.has(py_version)) {\n",
       "\treturn null\n",
       "      }\n",
       "      return root.Bokeh.versions.get(py_version);\n",
       "    } else if (root.Bokeh.version === py_version) {\n",
       "      return root.Bokeh\n",
       "    }\n",
       "    return null\n",
       "  }\n",
       "  function is_loaded(root) {\n",
       "    var Bokeh = get_bokeh(root)\n",
       "    return (Bokeh != null && Bokeh.Panel !== undefined)\n",
       "  }\n",
       "  if (is_loaded(root)) {\n",
       "    embed_document(root);\n",
       "  } else {\n",
       "    var attempts = 0;\n",
       "    var timer = setInterval(function(root) {\n",
       "      if (is_loaded(root)) {\n",
       "        clearInterval(timer);\n",
       "        embed_document(root);\n",
       "      } else if (document.readyState == \"complete\") {\n",
       "        attempts++;\n",
       "        if (attempts > 200) {\n",
       "          clearInterval(timer);\n",
       "\t  var Bokeh = get_bokeh(root)\n",
       "\t  if (Bokeh == null || Bokeh.Panel == null) {\n",
       "            console.warn(\"Panel: ERROR: Unable to run Panel code because Bokeh or Panel library is missing\");\n",
       "\t  } else {\n",
       "\t    console.warn(\"Panel: WARNING: Attempting to render but not all required libraries could be resolved.\")\n",
       "\t    embed_document(root)\n",
       "\t  }\n",
       "        }\n",
       "      }\n",
       "    }, 25, root)\n",
       "  }\n",
       "})(window);</script>"
      ],
      "text/plain": [
       ":Overlay\n",
       "   .WMTS.I   :WMTS   [Longitude,Latitude]\n",
       "   .Points.I :Points   [Lng,Lat]   (City,Humidity)"
      ]
     },
     "execution_count": 18,
     "metadata": {
      "application/vnd.holoviews_exec.v0+json": {
       "id": "p1335"
      }
     },
     "output_type": "execute_result"
    }
   ],
   "source": [
    "city_map = city_data_df.hvplot.points(\n",
    "    x=\"Lng\",                # Use the 'Lng' column for longitude (x-axis)\n",
    "    y=\"Lat\",                # Use the 'Lat' column for latitude (y-axis)\n",
    "    geo=True,               # Enable geographic plotting\n",
    "    size=\"Humidity\",        # Size of the point based on 'Humidity' column\n",
    "    scale=1,                # Adjust scale of point sizes if necessary\n",
    "    color=\"City\",           # Color points by city name or another category\n",
    "    alpha=0.6,              # Set transparency for better visualization\n",
    "    tiles=\"OSM\",            # Use OpenStreetMap for background\n",
    "    frame_width=800,        # Set the width of the map\n",
    "    frame_height=600        # Set the height of the map\n",
    ")\n",
    "\n",
    "# Display the map\n",
    "city_map"
   ]
  },
  {
   "cell_type": "markdown",
   "metadata": {},
   "source": [
    "### Step 2: Narrow down the `city_data_df` DataFrame to find your ideal weather condition"
   ]
  },
  {
   "cell_type": "code",
   "execution_count": 19,
   "metadata": {},
   "outputs": [
    {
     "data": {
      "text/html": [
       "<div>\n",
       "<style scoped>\n",
       "    .dataframe tbody tr th:only-of-type {\n",
       "        vertical-align: middle;\n",
       "    }\n",
       "\n",
       "    .dataframe tbody tr th {\n",
       "        vertical-align: top;\n",
       "    }\n",
       "\n",
       "    .dataframe thead th {\n",
       "        text-align: right;\n",
       "    }\n",
       "</style>\n",
       "<table border=\"1\" class=\"dataframe\">\n",
       "  <thead>\n",
       "    <tr style=\"text-align: right;\">\n",
       "      <th></th>\n",
       "      <th>City_ID</th>\n",
       "      <th>City</th>\n",
       "      <th>Lat</th>\n",
       "      <th>Lng</th>\n",
       "      <th>Max Temp</th>\n",
       "      <th>Humidity</th>\n",
       "      <th>Cloudiness</th>\n",
       "      <th>Wind Speed</th>\n",
       "      <th>Country</th>\n",
       "      <th>Date</th>\n",
       "    </tr>\n",
       "  </thead>\n",
       "  <tbody>\n",
       "  </tbody>\n",
       "</table>\n",
       "</div>"
      ],
      "text/plain": [
       "Empty DataFrame\n",
       "Columns: [City_ID, City, Lat, Lng, Max Temp, Humidity, Cloudiness, Wind Speed, Country, Date]\n",
       "Index: []"
      ]
     },
     "execution_count": 19,
     "metadata": {},
     "output_type": "execute_result"
    }
   ],
   "source": [
    "# Narrow down cities that fit criteria\n",
    "ideal_weather_df = city_data_df[\n",
    "    (city_data_df[\"Max Temp\"] > 21) & (city_data_df[\"Max Temp\"] < 27) &  # Temperature condition\n",
    "    (city_data_df[\"Wind Speed\"] < 4.5) &                                # Wind speed condition\n",
    "    (city_data_df[\"Cloudiness\"] == 0)                                   # Cloudiness condition\n",
    "]\n",
    "\n",
    "# Display the filtered DataFrame\n",
    "ideal_weather_df"
   ]
  },
  {
   "cell_type": "markdown",
   "metadata": {},
   "source": [
    "### Step 3: Create a new DataFrame called `hotel_df`."
   ]
  },
  {
   "cell_type": "code",
   "execution_count": 20,
   "metadata": {},
   "outputs": [
    {
     "data": {
      "text/html": [
       "<div>\n",
       "<style scoped>\n",
       "    .dataframe tbody tr th:only-of-type {\n",
       "        vertical-align: middle;\n",
       "    }\n",
       "\n",
       "    .dataframe tbody tr th {\n",
       "        vertical-align: top;\n",
       "    }\n",
       "\n",
       "    .dataframe thead th {\n",
       "        text-align: right;\n",
       "    }\n",
       "</style>\n",
       "<table border=\"1\" class=\"dataframe\">\n",
       "  <thead>\n",
       "    <tr style=\"text-align: right;\">\n",
       "      <th></th>\n",
       "      <th>City</th>\n",
       "      <th>Country</th>\n",
       "      <th>Lat</th>\n",
       "      <th>Lng</th>\n",
       "      <th>Humidity</th>\n",
       "      <th>Hotel Name</th>\n",
       "    </tr>\n",
       "  </thead>\n",
       "  <tbody>\n",
       "  </tbody>\n",
       "</table>\n",
       "</div>"
      ],
      "text/plain": [
       "Empty DataFrame\n",
       "Columns: [City, Country, Lat, Lng, Humidity, Hotel Name]\n",
       "Index: []"
      ]
     },
     "execution_count": 20,
     "metadata": {},
     "output_type": "execute_result"
    }
   ],
   "source": [
    "# Create a new DataFrame with selected columns for the hotel search\n",
    "hotel_df = ideal_weather_df[[\"City\", \"Country\", \"Lat\", \"Lng\", \"Humidity\"]].copy()\n",
    "\n",
    "# Add a new column \"Hotel Name\"\n",
    "hotel_df[\"Hotel Name\"] = \"\"\n",
    "\n",
    "# Display a preview of the DataFrame\n",
    "hotel_df"
   ]
  },
  {
   "cell_type": "markdown",
   "metadata": {},
   "source": [
    "### Step 4: For each city, use the Geoapify API to find the first hotel located within 10,000 metres of your coordinates."
   ]
  },
  {
   "cell_type": "code",
   "execution_count": 21,
   "metadata": {},
   "outputs": [
    {
     "name": "stdout",
     "output_type": "stream",
     "text": [
      "Starting hotel search...\n"
     ]
    },
    {
     "data": {
      "text/html": [
       "<div>\n",
       "<style scoped>\n",
       "    .dataframe tbody tr th:only-of-type {\n",
       "        vertical-align: middle;\n",
       "    }\n",
       "\n",
       "    .dataframe tbody tr th {\n",
       "        vertical-align: top;\n",
       "    }\n",
       "\n",
       "    .dataframe thead th {\n",
       "        text-align: right;\n",
       "    }\n",
       "</style>\n",
       "<table border=\"1\" class=\"dataframe\">\n",
       "  <thead>\n",
       "    <tr style=\"text-align: right;\">\n",
       "      <th></th>\n",
       "      <th>City</th>\n",
       "      <th>Country</th>\n",
       "      <th>Lat</th>\n",
       "      <th>Lng</th>\n",
       "      <th>Humidity</th>\n",
       "      <th>Hotel Name</th>\n",
       "    </tr>\n",
       "  </thead>\n",
       "  <tbody>\n",
       "  </tbody>\n",
       "</table>\n",
       "</div>"
      ],
      "text/plain": [
       "Empty DataFrame\n",
       "Columns: [City, Country, Lat, Lng, Humidity, Hotel Name]\n",
       "Index: []"
      ]
     },
     "execution_count": 21,
     "metadata": {},
     "output_type": "execute_result"
    }
   ],
   "source": [
    "# Define parameters for searching hotels\n",
    "radius = 1000  # Search radius in meters\n",
    "params = {\n",
    "    \"categories\": \"accommodation.hotel\",  # Category to search for hotels\n",
    "    \"apiKey\": geoapify_key,              # Geoapify API key\n",
    "    \"limit\": 20                          # Maximum number of results to retrieve\n",
    "}\n",
    "\n",
    "# Notify the user that the hotel search is starting\n",
    "print(\"Starting hotel search...\")\n",
    "\n",
    "# Loop through each row in the hotel_df DataFrame\n",
    "for index, row in hotel_df.iterrows():\n",
    "    # Extract latitude and longitude for the current city\n",
    "    lat = row[\"Lat\"]\n",
    "    lon = row[\"Lng\"]\n",
    "\n",
    "    # Update the parameters with the location filter and bias\n",
    "    params[\"filter\"] = f\"circle:{lon},{lat},{radius}\"  # Define search area\n",
    "    params[\"bias\"] = f\"proximity:{lon},{lat}\"         # Bias results towards the city's location\n",
    "\n",
    "    # Define the base URL for the Geoapify Places API\n",
    "    base_url = \"https://api.geoapify.com/v2/places\"\n",
    "\n",
    "    # Make an API request with the defined parameters\n",
    "    response = requests.get(base_url, params=params)\n",
    "\n",
    "    # Parse the API response to JSON format\n",
    "    response_json = response.json()\n",
    "    \n",
    "    # Attempt to retrieve the first hotel's name from the API results\n",
    "    try:\n",
    "        hotel_name = response_json[\"features\"][0][\"properties\"][\"name\"]\n",
    "        hotel_df.loc[index, \"Hotel Name\"] = hotel_name  # Update the DataFrame with the hotel name\n",
    "    except (KeyError, IndexError):\n",
    "        # If no hotel is found, set the name to \"No hotel found\"\n",
    "        hotel_df.loc[index, \"Hotel Name\"] = \"No hotel found\"\n",
    "\n",
    "    # Log the result for the current city\n",
    "    print(f\"{row['City']} - Nearest hotel: {hotel_df.loc[index, 'Hotel Name']}\")\n",
    "\n",
    "# Display a preview of the updated DataFrame\n",
    "hotel_df"
   ]
  },
  {
   "cell_type": "markdown",
   "metadata": {},
   "source": [
    "### Step 5: Add the hotel name and the country as additional information in the hover message for each city in the map."
   ]
  },
  {
   "cell_type": "code",
   "execution_count": 22,
   "metadata": {},
   "outputs": [
    {
     "data": {},
     "metadata": {},
     "output_type": "display_data"
    },
    {
     "data": {
      "application/vnd.holoviews_exec.v0+json": "",
      "text/html": [
       "<div id='p1443'>\n",
       "  <div id=\"f7647caf-c4d1-48b3-aea2-0f56ce294a69\" data-root-id=\"p1443\" style=\"display: contents;\"></div>\n",
       "</div>\n",
       "<script type=\"application/javascript\">(function(root) {\n",
       "  var docs_json = {\"d56b754a-196c-4ee9-ba35-1243194500c0\":{\"version\":\"3.4.1\",\"title\":\"Bokeh Application\",\"roots\":[{\"type\":\"object\",\"name\":\"Row\",\"id\":\"p1443\",\"attributes\":{\"name\":\"Row02260\",\"tags\":[\"embedded\"],\"stylesheets\":[\"\\n:host(.pn-loading):before, .pn-loading:before {\\n  background-color: #c3c3c3;\\n  mask-size: auto calc(min(50%, 400px));\\n  -webkit-mask-size: auto calc(min(50%, 400px));\\n}\",{\"type\":\"object\",\"name\":\"ImportedStyleSheet\",\"id\":\"p1446\",\"attributes\":{\"url\":\"https://cdn.holoviz.org/panel/1.4.4/dist/css/loading.css\"}},{\"type\":\"object\",\"name\":\"ImportedStyleSheet\",\"id\":\"p1542\",\"attributes\":{\"url\":\"https://cdn.holoviz.org/panel/1.4.4/dist/css/listpanel.css\"}},{\"type\":\"object\",\"name\":\"ImportedStyleSheet\",\"id\":\"p1444\",\"attributes\":{\"url\":\"https://cdn.holoviz.org/panel/1.4.4/dist/bundled/theme/default.css\"}},{\"type\":\"object\",\"name\":\"ImportedStyleSheet\",\"id\":\"p1445\",\"attributes\":{\"url\":\"https://cdn.holoviz.org/panel/1.4.4/dist/bundled/theme/native.css\"}}],\"margin\":0,\"sizing_mode\":\"stretch_width\",\"align\":\"start\",\"children\":[{\"type\":\"object\",\"name\":\"Spacer\",\"id\":\"p1447\",\"attributes\":{\"name\":\"HSpacer02266\",\"stylesheets\":[\"\\n:host(.pn-loading):before, .pn-loading:before {\\n  background-color: #c3c3c3;\\n  mask-size: auto calc(min(50%, 400px));\\n  -webkit-mask-size: auto calc(min(50%, 400px));\\n}\",{\"id\":\"p1446\"},{\"id\":\"p1444\"},{\"id\":\"p1445\"}],\"margin\":0,\"sizing_mode\":\"stretch_width\",\"align\":\"start\"}},{\"type\":\"object\",\"name\":\"Figure\",\"id\":\"p1486\",\"attributes\":{\"width\":null,\"height\":null,\"margin\":[5,10],\"sizing_mode\":\"fixed\",\"align\":\"start\",\"x_range\":{\"type\":\"object\",\"name\":\"Range1d\",\"id\":\"p1457\",\"attributes\":{\"tags\":[[[\"Longitude\",null]],[]],\"start\":-2.0,\"end\":3.0,\"min_interval\":5}},\"y_range\":{\"type\":\"object\",\"name\":\"Range1d\",\"id\":\"p1458\",\"attributes\":{\"tags\":[[[\"Latitude\",null]],{\"type\":\"map\",\"entries\":[[\"invert_yaxis\",false],[\"autorange\",false]]}],\"start\":-2.0,\"end\":3.0,\"min_interval\":5}},\"x_scale\":{\"type\":\"object\",\"name\":\"LinearScale\",\"id\":\"p1496\"},\"y_scale\":{\"type\":\"object\",\"name\":\"LinearScale\",\"id\":\"p1497\"},\"title\":{\"type\":\"object\",\"name\":\"Title\",\"id\":\"p1489\",\"attributes\":{\"text_color\":\"black\",\"text_font_size\":\"12pt\"}},\"renderers\":[{\"type\":\"object\",\"name\":\"TileRenderer\",\"id\":\"p1519\",\"attributes\":{\"level\":\"underlay\",\"tile_source\":{\"type\":\"object\",\"name\":\"WMTSTileSource\",\"id\":\"p1515\",\"attributes\":{\"url\":\"https://c.tile.openstreetmap.org/{Z}/{X}/{Y}.png\",\"attribution\":\"&copy; <a href=\\\"https://www.openstreetmap.org/copyright\\\">OpenStreetMap</a> contributors\"}}}},{\"type\":\"object\",\"name\":\"GlyphRenderer\",\"id\":\"p1534\",\"attributes\":{\"data_source\":{\"type\":\"object\",\"name\":\"ColumnDataSource\",\"id\":\"p1523\",\"attributes\":{\"selected\":{\"type\":\"object\",\"name\":\"Selection\",\"id\":\"p1524\",\"attributes\":{\"indices\":[],\"line_indices\":[]}},\"selection_policy\":{\"type\":\"object\",\"name\":\"UnionRenderers\",\"id\":\"p1525\"},\"data\":{\"type\":\"map\",\"entries\":[[\"Lng\",{\"type\":\"ndarray\",\"array\":{\"type\":\"bytes\",\"data\":\"\"},\"shape\":[0],\"dtype\":\"float64\",\"order\":\"little\"}],[\"Lat\",{\"type\":\"ndarray\",\"array\":{\"type\":\"bytes\",\"data\":\"\"},\"shape\":[0],\"dtype\":\"float64\",\"order\":\"little\"}],[\"City\",{\"type\":\"ndarray\",\"array\":[],\"shape\":[0],\"dtype\":\"object\",\"order\":\"little\"}],[\"Humidity\",{\"type\":\"ndarray\",\"array\":{\"type\":\"bytes\",\"data\":\"\"},\"shape\":[0],\"dtype\":\"int32\",\"order\":\"little\"}],[\"Hotel_Name\",{\"type\":\"ndarray\",\"array\":[],\"shape\":[0],\"dtype\":\"object\",\"order\":\"little\"}],[\"Country\",{\"type\":\"ndarray\",\"array\":[],\"shape\":[0],\"dtype\":\"object\",\"order\":\"little\"}],[\"color\",{\"type\":\"ndarray\",\"array\":[],\"shape\":[0],\"dtype\":\"object\",\"order\":\"little\"}],[\"size\",{\"type\":\"ndarray\",\"array\":{\"type\":\"bytes\",\"data\":\"\"},\"shape\":[0],\"dtype\":\"float64\",\"order\":\"little\"}]]}}},\"view\":{\"type\":\"object\",\"name\":\"CDSView\",\"id\":\"p1535\",\"attributes\":{\"filter\":{\"type\":\"object\",\"name\":\"AllIndices\",\"id\":\"p1536\"}}},\"glyph\":{\"type\":\"object\",\"name\":\"Scatter\",\"id\":\"p1529\",\"attributes\":{\"tags\":[\"apply_ranges\"],\"x\":{\"type\":\"field\",\"field\":\"Lng\"},\"y\":{\"type\":\"field\",\"field\":\"Lat\"},\"size\":{\"type\":\"field\",\"field\":\"size\"},\"line_color\":{\"type\":\"field\",\"field\":\"color\"},\"line_alpha\":{\"type\":\"value\",\"value\":0.5},\"fill_color\":{\"type\":\"field\",\"field\":\"color\"},\"fill_alpha\":{\"type\":\"value\",\"value\":0.5},\"hatch_color\":{\"type\":\"field\",\"field\":\"color\"},\"hatch_alpha\":{\"type\":\"value\",\"value\":0.5}}},\"selection_glyph\":{\"type\":\"object\",\"name\":\"Scatter\",\"id\":\"p1531\",\"attributes\":{\"tags\":[\"apply_ranges\"],\"x\":{\"type\":\"field\",\"field\":\"Lng\"},\"y\":{\"type\":\"field\",\"field\":\"Lat\"},\"size\":{\"type\":\"field\",\"field\":\"size\"},\"line_color\":{\"type\":\"field\",\"field\":\"color\"},\"line_alpha\":{\"type\":\"value\",\"value\":0.5},\"fill_color\":{\"type\":\"field\",\"field\":\"color\"},\"fill_alpha\":{\"type\":\"value\",\"value\":0.5},\"hatch_color\":{\"type\":\"field\",\"field\":\"color\"},\"hatch_alpha\":{\"type\":\"value\",\"value\":0.5}}},\"nonselection_glyph\":{\"type\":\"object\",\"name\":\"Scatter\",\"id\":\"p1530\",\"attributes\":{\"tags\":[\"apply_ranges\"],\"x\":{\"type\":\"field\",\"field\":\"Lng\"},\"y\":{\"type\":\"field\",\"field\":\"Lat\"},\"size\":{\"type\":\"field\",\"field\":\"size\"},\"line_color\":{\"type\":\"field\",\"field\":\"color\"},\"line_alpha\":{\"type\":\"value\",\"value\":0.5},\"fill_color\":{\"type\":\"field\",\"field\":\"color\"},\"fill_alpha\":{\"type\":\"value\",\"value\":0.5},\"hatch_color\":{\"type\":\"field\",\"field\":\"color\"},\"hatch_alpha\":{\"type\":\"value\",\"value\":0.1}}},\"hover_glyph\":{\"type\":\"object\",\"name\":\"Scatter\",\"id\":\"p1532\",\"attributes\":{\"tags\":[\"apply_ranges\"],\"x\":{\"type\":\"field\",\"field\":\"Lng\"},\"y\":{\"type\":\"field\",\"field\":\"Lat\"},\"size\":{\"type\":\"field\",\"field\":\"size\"},\"line_color\":{\"type\":\"field\",\"field\":\"color\"},\"line_alpha\":{\"type\":\"value\",\"value\":0.5},\"fill_color\":{\"type\":\"field\",\"field\":\"color\"},\"fill_alpha\":{\"type\":\"value\",\"value\":0.5},\"hatch_color\":{\"type\":\"field\",\"field\":\"color\"},\"hatch_alpha\":{\"type\":\"value\",\"value\":0.5}}},\"muted_glyph\":{\"type\":\"object\",\"name\":\"Scatter\",\"id\":\"p1533\",\"attributes\":{\"tags\":[\"apply_ranges\"],\"x\":{\"type\":\"field\",\"field\":\"Lng\"},\"y\":{\"type\":\"field\",\"field\":\"Lat\"},\"size\":{\"type\":\"field\",\"field\":\"size\"},\"line_color\":{\"type\":\"field\",\"field\":\"color\"},\"line_alpha\":{\"type\":\"value\",\"value\":0.2},\"fill_color\":{\"type\":\"field\",\"field\":\"color\"},\"fill_alpha\":{\"type\":\"value\",\"value\":0.2},\"hatch_color\":{\"type\":\"field\",\"field\":\"color\"},\"hatch_alpha\":{\"type\":\"value\",\"value\":0.2}}}}}],\"toolbar\":{\"type\":\"object\",\"name\":\"Toolbar\",\"id\":\"p1495\",\"attributes\":{\"tools\":[{\"type\":\"object\",\"name\":\"WheelZoomTool\",\"id\":\"p1461\",\"attributes\":{\"renderers\":\"auto\",\"zoom_on_axis\":false}},{\"type\":\"object\",\"name\":\"BoxZoomTool\",\"id\":\"p1467\",\"attributes\":{\"overlay\":{\"type\":\"object\",\"name\":\"BoxAnnotation\",\"id\":\"p1462\",\"attributes\":{\"syncable\":false,\"level\":\"overlay\",\"visible\":false,\"left\":{\"type\":\"number\",\"value\":\"nan\"},\"right\":{\"type\":\"number\",\"value\":\"nan\"},\"top\":{\"type\":\"number\",\"value\":\"nan\"},\"bottom\":{\"type\":\"number\",\"value\":\"nan\"},\"left_units\":\"canvas\",\"right_units\":\"canvas\",\"top_units\":\"canvas\",\"bottom_units\":\"canvas\",\"line_color\":\"black\",\"line_alpha\":1.0,\"line_width\":2,\"line_dash\":[4,4],\"fill_color\":\"lightgrey\",\"fill_alpha\":0.5}},\"match_aspect\":true}},{\"type\":\"object\",\"name\":\"HoverTool\",\"id\":\"p1485\",\"attributes\":{\"tags\":[\"hv_created\"],\"renderers\":[{\"id\":\"p1534\"}],\"tooltips\":[[\"Lng\",\"$x{custom}\"],[\"Lat\",\"$y{custom}\"],[\"City\",\"@{City}\"],[\"Humidity\",\"@{Humidity}\"],[\"Hotel Name\",\"@{Hotel_Name}\"],[\"Country\",\"@{Country}\"]],\"formatters\":{\"type\":\"map\",\"entries\":[[\"$x\",{\"type\":\"object\",\"name\":\"CustomJSHover\",\"id\":\"p1537\",\"attributes\":{\"code\":\"\\n        const projections = Bokeh.require(\\\"core/util/projections\\\");\\n        const {snap_x, snap_y} = special_vars\\n        const coords = projections.wgs84_mercator.invert(snap_x, snap_y)\\n        return \\\"\\\" + (coords[0]).toFixed(4)\\n    \"}}],[\"$y\",{\"type\":\"object\",\"name\":\"CustomJSHover\",\"id\":\"p1538\",\"attributes\":{\"code\":\"\\n        const projections = Bokeh.require(\\\"core/util/projections\\\");\\n        const {snap_x, snap_y} = special_vars\\n        const coords = projections.wgs84_mercator.invert(snap_x, snap_y)\\n        return \\\"\\\" + (coords[1]).toFixed(4)\\n    \"}}]]}}},{\"type\":\"object\",\"name\":\"PanTool\",\"id\":\"p1509\"},{\"type\":\"object\",\"name\":\"ResetTool\",\"id\":\"p1510\"}],\"active_drag\":{\"id\":\"p1509\"}}},\"left\":[{\"type\":\"object\",\"name\":\"LinearAxis\",\"id\":\"p1503\",\"attributes\":{\"ticker\":{\"type\":\"object\",\"name\":\"MercatorTicker\",\"id\":\"p1513\",\"attributes\":{\"mantissas\":[1,2,5],\"dimension\":\"lat\"}},\"formatter\":{\"type\":\"object\",\"name\":\"MercatorTickFormatter\",\"id\":\"p1514\",\"attributes\":{\"dimension\":\"lat\"}},\"axis_label\":\"Latitude\",\"major_label_policy\":{\"type\":\"object\",\"name\":\"AllLabels\",\"id\":\"p1506\"}}}],\"below\":[{\"type\":\"object\",\"name\":\"LinearAxis\",\"id\":\"p1498\",\"attributes\":{\"ticker\":{\"type\":\"object\",\"name\":\"MercatorTicker\",\"id\":\"p1511\",\"attributes\":{\"mantissas\":[1,2,5],\"dimension\":\"lon\"}},\"formatter\":{\"type\":\"object\",\"name\":\"MercatorTickFormatter\",\"id\":\"p1512\",\"attributes\":{\"dimension\":\"lon\"}},\"axis_label\":\"Longitude\",\"major_label_policy\":{\"type\":\"object\",\"name\":\"AllLabels\",\"id\":\"p1501\"}}}],\"center\":[{\"type\":\"object\",\"name\":\"Grid\",\"id\":\"p1502\",\"attributes\":{\"axis\":{\"id\":\"p1498\"},\"grid_line_color\":null}},{\"type\":\"object\",\"name\":\"Grid\",\"id\":\"p1507\",\"attributes\":{\"dimension\":1,\"axis\":{\"id\":\"p1503\"},\"grid_line_color\":null}}],\"frame_width\":700,\"frame_height\":500,\"min_border_top\":10,\"min_border_bottom\":10,\"min_border_left\":10,\"min_border_right\":10,\"output_backend\":\"webgl\",\"match_aspect\":true}},{\"type\":\"object\",\"name\":\"Spacer\",\"id\":\"p1540\",\"attributes\":{\"name\":\"HSpacer02267\",\"stylesheets\":[\"\\n:host(.pn-loading):before, .pn-loading:before {\\n  background-color: #c3c3c3;\\n  mask-size: auto calc(min(50%, 400px));\\n  -webkit-mask-size: auto calc(min(50%, 400px));\\n}\",{\"id\":\"p1446\"},{\"id\":\"p1444\"},{\"id\":\"p1445\"}],\"margin\":0,\"sizing_mode\":\"stretch_width\",\"align\":\"start\"}}]}}],\"defs\":[{\"type\":\"model\",\"name\":\"ReactiveHTML1\"},{\"type\":\"model\",\"name\":\"FlexBox1\",\"properties\":[{\"name\":\"align_content\",\"kind\":\"Any\",\"default\":\"flex-start\"},{\"name\":\"align_items\",\"kind\":\"Any\",\"default\":\"flex-start\"},{\"name\":\"flex_direction\",\"kind\":\"Any\",\"default\":\"row\"},{\"name\":\"flex_wrap\",\"kind\":\"Any\",\"default\":\"wrap\"},{\"name\":\"gap\",\"kind\":\"Any\",\"default\":\"\"},{\"name\":\"justify_content\",\"kind\":\"Any\",\"default\":\"flex-start\"}]},{\"type\":\"model\",\"name\":\"FloatPanel1\",\"properties\":[{\"name\":\"config\",\"kind\":\"Any\",\"default\":{\"type\":\"map\"}},{\"name\":\"contained\",\"kind\":\"Any\",\"default\":true},{\"name\":\"position\",\"kind\":\"Any\",\"default\":\"right-top\"},{\"name\":\"offsetx\",\"kind\":\"Any\",\"default\":null},{\"name\":\"offsety\",\"kind\":\"Any\",\"default\":null},{\"name\":\"theme\",\"kind\":\"Any\",\"default\":\"primary\"},{\"name\":\"status\",\"kind\":\"Any\",\"default\":\"normalized\"}]},{\"type\":\"model\",\"name\":\"GridStack1\",\"properties\":[{\"name\":\"mode\",\"kind\":\"Any\",\"default\":\"warn\"},{\"name\":\"ncols\",\"kind\":\"Any\",\"default\":null},{\"name\":\"nrows\",\"kind\":\"Any\",\"default\":null},{\"name\":\"allow_resize\",\"kind\":\"Any\",\"default\":true},{\"name\":\"allow_drag\",\"kind\":\"Any\",\"default\":true},{\"name\":\"state\",\"kind\":\"Any\",\"default\":[]}]},{\"type\":\"model\",\"name\":\"drag1\",\"properties\":[{\"name\":\"slider_width\",\"kind\":\"Any\",\"default\":5},{\"name\":\"slider_color\",\"kind\":\"Any\",\"default\":\"black\"},{\"name\":\"value\",\"kind\":\"Any\",\"default\":50}]},{\"type\":\"model\",\"name\":\"click1\",\"properties\":[{\"name\":\"terminal_output\",\"kind\":\"Any\",\"default\":\"\"},{\"name\":\"debug_name\",\"kind\":\"Any\",\"default\":\"\"},{\"name\":\"clears\",\"kind\":\"Any\",\"default\":0}]},{\"type\":\"model\",\"name\":\"FastWrapper1\",\"properties\":[{\"name\":\"object\",\"kind\":\"Any\",\"default\":null},{\"name\":\"style\",\"kind\":\"Any\",\"default\":null}]},{\"type\":\"model\",\"name\":\"NotificationAreaBase1\",\"properties\":[{\"name\":\"js_events\",\"kind\":\"Any\",\"default\":{\"type\":\"map\"}},{\"name\":\"position\",\"kind\":\"Any\",\"default\":\"bottom-right\"},{\"name\":\"_clear\",\"kind\":\"Any\",\"default\":0}]},{\"type\":\"model\",\"name\":\"NotificationArea1\",\"properties\":[{\"name\":\"js_events\",\"kind\":\"Any\",\"default\":{\"type\":\"map\"}},{\"name\":\"notifications\",\"kind\":\"Any\",\"default\":[]},{\"name\":\"position\",\"kind\":\"Any\",\"default\":\"bottom-right\"},{\"name\":\"_clear\",\"kind\":\"Any\",\"default\":0},{\"name\":\"types\",\"kind\":\"Any\",\"default\":[{\"type\":\"map\",\"entries\":[[\"type\",\"warning\"],[\"background\",\"#ffc107\"],[\"icon\",{\"type\":\"map\",\"entries\":[[\"className\",\"fas fa-exclamation-triangle\"],[\"tagName\",\"i\"],[\"color\",\"white\"]]}]]},{\"type\":\"map\",\"entries\":[[\"type\",\"info\"],[\"background\",\"#007bff\"],[\"icon\",{\"type\":\"map\",\"entries\":[[\"className\",\"fas fa-info-circle\"],[\"tagName\",\"i\"],[\"color\",\"white\"]]}]]}]}]},{\"type\":\"model\",\"name\":\"Notification\",\"properties\":[{\"name\":\"background\",\"kind\":\"Any\",\"default\":null},{\"name\":\"duration\",\"kind\":\"Any\",\"default\":3000},{\"name\":\"icon\",\"kind\":\"Any\",\"default\":null},{\"name\":\"message\",\"kind\":\"Any\",\"default\":\"\"},{\"name\":\"notification_type\",\"kind\":\"Any\",\"default\":null},{\"name\":\"_destroyed\",\"kind\":\"Any\",\"default\":false}]},{\"type\":\"model\",\"name\":\"TemplateActions1\",\"properties\":[{\"name\":\"open_modal\",\"kind\":\"Any\",\"default\":0},{\"name\":\"close_modal\",\"kind\":\"Any\",\"default\":0}]},{\"type\":\"model\",\"name\":\"BootstrapTemplateActions1\",\"properties\":[{\"name\":\"open_modal\",\"kind\":\"Any\",\"default\":0},{\"name\":\"close_modal\",\"kind\":\"Any\",\"default\":0}]},{\"type\":\"model\",\"name\":\"TemplateEditor1\",\"properties\":[{\"name\":\"layout\",\"kind\":\"Any\",\"default\":[]}]},{\"type\":\"model\",\"name\":\"MaterialTemplateActions1\",\"properties\":[{\"name\":\"open_modal\",\"kind\":\"Any\",\"default\":0},{\"name\":\"close_modal\",\"kind\":\"Any\",\"default\":0}]},{\"type\":\"model\",\"name\":\"copy_to_clipboard1\",\"properties\":[{\"name\":\"fill\",\"kind\":\"Any\",\"default\":\"none\"},{\"name\":\"value\",\"kind\":\"Any\",\"default\":null}]}]}};\n",
       "  var render_items = [{\"docid\":\"d56b754a-196c-4ee9-ba35-1243194500c0\",\"roots\":{\"p1443\":\"f7647caf-c4d1-48b3-aea2-0f56ce294a69\"},\"root_ids\":[\"p1443\"]}];\n",
       "  var docs = Object.values(docs_json)\n",
       "  if (!docs) {\n",
       "    return\n",
       "  }\n",
       "  const py_version = docs[0].version.replace('rc', '-rc.').replace('.dev', '-dev.')\n",
       "  async function embed_document(root) {\n",
       "    var Bokeh = get_bokeh(root)\n",
       "    await Bokeh.embed.embed_items_notebook(docs_json, render_items);\n",
       "    for (const render_item of render_items) {\n",
       "      for (const root_id of render_item.root_ids) {\n",
       "\tconst id_el = document.getElementById(root_id)\n",
       "\tif (id_el.children.length && id_el.children[0].hasAttribute('data-root-id')) {\n",
       "\t  const root_el = id_el.children[0]\n",
       "\t  root_el.id = root_el.id + '-rendered'\n",
       "\t  for (const child of root_el.children) {\n",
       "            // Ensure JupyterLab does not capture keyboard shortcuts\n",
       "            // see: https://jupyterlab.readthedocs.io/en/4.1.x/extension/notebook.html#keyboard-interaction-model\n",
       "\t    child.setAttribute('data-lm-suppress-shortcuts', 'true')\n",
       "\t  }\n",
       "\t}\n",
       "      }\n",
       "    }\n",
       "  }\n",
       "  function get_bokeh(root) {\n",
       "    if (root.Bokeh === undefined) {\n",
       "      return null\n",
       "    } else if (root.Bokeh.version !== py_version) {\n",
       "      if (root.Bokeh.versions === undefined || !root.Bokeh.versions.has(py_version)) {\n",
       "\treturn null\n",
       "      }\n",
       "      return root.Bokeh.versions.get(py_version);\n",
       "    } else if (root.Bokeh.version === py_version) {\n",
       "      return root.Bokeh\n",
       "    }\n",
       "    return null\n",
       "  }\n",
       "  function is_loaded(root) {\n",
       "    var Bokeh = get_bokeh(root)\n",
       "    return (Bokeh != null && Bokeh.Panel !== undefined)\n",
       "  }\n",
       "  if (is_loaded(root)) {\n",
       "    embed_document(root);\n",
       "  } else {\n",
       "    var attempts = 0;\n",
       "    var timer = setInterval(function(root) {\n",
       "      if (is_loaded(root)) {\n",
       "        clearInterval(timer);\n",
       "        embed_document(root);\n",
       "      } else if (document.readyState == \"complete\") {\n",
       "        attempts++;\n",
       "        if (attempts > 200) {\n",
       "          clearInterval(timer);\n",
       "\t  var Bokeh = get_bokeh(root)\n",
       "\t  if (Bokeh == null || Bokeh.Panel == null) {\n",
       "            console.warn(\"Panel: ERROR: Unable to run Panel code because Bokeh or Panel library is missing\");\n",
       "\t  } else {\n",
       "\t    console.warn(\"Panel: WARNING: Attempting to render but not all required libraries could be resolved.\")\n",
       "\t    embed_document(root)\n",
       "\t  }\n",
       "        }\n",
       "      }\n",
       "    }, 25, root)\n",
       "  }\n",
       "})(window);</script>"
      ],
      "text/plain": [
       ":Overlay\n",
       "   .WMTS.I   :WMTS   [Longitude,Latitude]\n",
       "   .Points.I :Points   [Lng,Lat]   (City,Humidity,Hotel Name,Country)"
      ]
     },
     "execution_count": 22,
     "metadata": {
      "application/vnd.holoviews_exec.v0+json": {
       "id": "p1443"
      }
     },
     "output_type": "execute_result"
    }
   ],
   "source": [
    "%%capture --no-display\n",
    "\n",
    "# Configure the map plot\n",
    "map_plot = hotel_df.hvplot.points(\n",
    "    x=\"Lng\",                 # Longitude for x-axis\n",
    "    y=\"Lat\",                 # Latitude for y-axis\n",
    "    geo=True,                # Enable geographic plotting\n",
    "    size=\"Humidity\",         # Point size based on humidity\n",
    "    scale=1,                 # Scale for point size\n",
    "    color=\"City\",            # Color points by city\n",
    "    alpha=0.5,               # Set transparency for better visualization\n",
    "    tiles=\"OSM\",             # Use OpenStreetMap tiles as the base layer\n",
    "    frame_width=700,         # Set map width\n",
    "    frame_height=500,        # Set map height\n",
    "    hover_cols=[\"Hotel Name\", \"Country\"]  # Add hotel name and country in hover tooltips\n",
    ")\n",
    "\n",
    "# Display the map\n",
    "map_plot"
   ]
  },
  {
   "cell_type": "code",
   "execution_count": null,
   "metadata": {},
   "outputs": [],
   "source": []
  }
 ],
 "metadata": {
  "kernelspec": {
   "display_name": "base",
   "language": "python",
   "name": "python3"
  },
  "language_info": {
   "codemirror_mode": {
    "name": "ipython",
    "version": 3
   },
   "file_extension": ".py",
   "mimetype": "text/x-python",
   "name": "python",
   "nbconvert_exporter": "python",
   "pygments_lexer": "ipython3",
   "version": "3.12.4"
  },
  "latex_envs": {
   "LaTeX_envs_menu_present": true,
   "autoclose": false,
   "autocomplete": true,
   "bibliofile": "biblio.bib",
   "cite_by": "apalike",
   "current_citInitial": 1,
   "eqLabelWithNumbers": true,
   "eqNumInitial": 1,
   "hotkeys": {
    "equation": "Ctrl-E",
    "itemize": "Ctrl-I"
   },
   "labels_anchors": false,
   "latex_user_defs": false,
   "report_style_numbering": false,
   "user_envs_cfg": false
  }
 },
 "nbformat": 4,
 "nbformat_minor": 4
}
